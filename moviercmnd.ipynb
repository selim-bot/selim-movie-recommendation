{
 "cells": [
  {
   "cell_type": "code",
   "execution_count": 1,
   "id": "5526a266-5dc2-4186-9e2f-a0e70de6d21e",
   "metadata": {},
   "outputs": [],
   "source": [
    "import numpy as np\n",
    "import pandas as pd"
   ]
  },
  {
   "cell_type": "code",
   "execution_count": 2,
   "id": "aea40fa4-ebb3-4317-b6c2-59dbb58f3740",
   "metadata": {},
   "outputs": [],
   "source": [
    "movies=pd.read_csv('tmdb_5000_movies.csv')\n",
    "credits=pd.read_csv('tmdb_5000_credits.csv')"
   ]
  },
  {
   "cell_type": "code",
   "execution_count": 3,
   "id": "3f3eb3c2-b035-44d7-8da1-551653706a71",
   "metadata": {},
   "outputs": [
    {
     "data": {
      "text/html": [
       "<div>\n",
       "<style scoped>\n",
       "    .dataframe tbody tr th:only-of-type {\n",
       "        vertical-align: middle;\n",
       "    }\n",
       "\n",
       "    .dataframe tbody tr th {\n",
       "        vertical-align: top;\n",
       "    }\n",
       "\n",
       "    .dataframe thead th {\n",
       "        text-align: right;\n",
       "    }\n",
       "</style>\n",
       "<table border=\"1\" class=\"dataframe\">\n",
       "  <thead>\n",
       "    <tr style=\"text-align: right;\">\n",
       "      <th></th>\n",
       "      <th>movie_id</th>\n",
       "      <th>title</th>\n",
       "      <th>cast</th>\n",
       "      <th>crew</th>\n",
       "    </tr>\n",
       "  </thead>\n",
       "  <tbody>\n",
       "    <tr>\n",
       "      <th>0</th>\n",
       "      <td>19995</td>\n",
       "      <td>Avatar</td>\n",
       "      <td>[{\"cast_id\": 242, \"character\": \"Jake Sully\", \"...</td>\n",
       "      <td>[{\"credit_id\": \"52fe48009251416c750aca23\", \"de...</td>\n",
       "    </tr>\n",
       "  </tbody>\n",
       "</table>\n",
       "</div>"
      ],
      "text/plain": [
       "   movie_id   title                                               cast  \\\n",
       "0     19995  Avatar  [{\"cast_id\": 242, \"character\": \"Jake Sully\", \"...   \n",
       "\n",
       "                                                crew  \n",
       "0  [{\"credit_id\": \"52fe48009251416c750aca23\", \"de...  "
      ]
     },
     "execution_count": 3,
     "metadata": {},
     "output_type": "execute_result"
    }
   ],
   "source": [
    "credits.head(1)"
   ]
  },
  {
   "cell_type": "code",
   "execution_count": 4,
   "id": "8d07b527-0ce8-4ffd-9eea-8c9bd945d0a3",
   "metadata": {},
   "outputs": [
    {
     "data": {
      "text/html": [
       "<div>\n",
       "<style scoped>\n",
       "    .dataframe tbody tr th:only-of-type {\n",
       "        vertical-align: middle;\n",
       "    }\n",
       "\n",
       "    .dataframe tbody tr th {\n",
       "        vertical-align: top;\n",
       "    }\n",
       "\n",
       "    .dataframe thead th {\n",
       "        text-align: right;\n",
       "    }\n",
       "</style>\n",
       "<table border=\"1\" class=\"dataframe\">\n",
       "  <thead>\n",
       "    <tr style=\"text-align: right;\">\n",
       "      <th></th>\n",
       "      <th>budget</th>\n",
       "      <th>genres</th>\n",
       "      <th>homepage</th>\n",
       "      <th>id</th>\n",
       "      <th>keywords</th>\n",
       "      <th>original_language</th>\n",
       "      <th>original_title</th>\n",
       "      <th>overview</th>\n",
       "      <th>popularity</th>\n",
       "      <th>production_companies</th>\n",
       "      <th>production_countries</th>\n",
       "      <th>release_date</th>\n",
       "      <th>revenue</th>\n",
       "      <th>runtime</th>\n",
       "      <th>spoken_languages</th>\n",
       "      <th>status</th>\n",
       "      <th>tagline</th>\n",
       "      <th>title</th>\n",
       "      <th>vote_average</th>\n",
       "      <th>vote_count</th>\n",
       "    </tr>\n",
       "  </thead>\n",
       "  <tbody>\n",
       "    <tr>\n",
       "      <th>0</th>\n",
       "      <td>237000000</td>\n",
       "      <td>[{\"id\": 28, \"name\": \"Action\"}, {\"id\": 12, \"nam...</td>\n",
       "      <td>http://www.avatarmovie.com/</td>\n",
       "      <td>19995</td>\n",
       "      <td>[{\"id\": 1463, \"name\": \"culture clash\"}, {\"id\":...</td>\n",
       "      <td>en</td>\n",
       "      <td>Avatar</td>\n",
       "      <td>In the 22nd century, a paraplegic Marine is di...</td>\n",
       "      <td>150.437577</td>\n",
       "      <td>[{\"name\": \"Ingenious Film Partners\", \"id\": 289...</td>\n",
       "      <td>[{\"iso_3166_1\": \"US\", \"name\": \"United States o...</td>\n",
       "      <td>2009-12-10</td>\n",
       "      <td>2787965087</td>\n",
       "      <td>162.0</td>\n",
       "      <td>[{\"iso_639_1\": \"en\", \"name\": \"English\"}, {\"iso...</td>\n",
       "      <td>Released</td>\n",
       "      <td>Enter the World of Pandora.</td>\n",
       "      <td>Avatar</td>\n",
       "      <td>7.2</td>\n",
       "      <td>11800</td>\n",
       "    </tr>\n",
       "  </tbody>\n",
       "</table>\n",
       "</div>"
      ],
      "text/plain": [
       "      budget                                             genres  \\\n",
       "0  237000000  [{\"id\": 28, \"name\": \"Action\"}, {\"id\": 12, \"nam...   \n",
       "\n",
       "                      homepage     id  \\\n",
       "0  http://www.avatarmovie.com/  19995   \n",
       "\n",
       "                                            keywords original_language  \\\n",
       "0  [{\"id\": 1463, \"name\": \"culture clash\"}, {\"id\":...                en   \n",
       "\n",
       "  original_title                                           overview  \\\n",
       "0         Avatar  In the 22nd century, a paraplegic Marine is di...   \n",
       "\n",
       "   popularity                               production_companies  \\\n",
       "0  150.437577  [{\"name\": \"Ingenious Film Partners\", \"id\": 289...   \n",
       "\n",
       "                                production_countries release_date     revenue  \\\n",
       "0  [{\"iso_3166_1\": \"US\", \"name\": \"United States o...   2009-12-10  2787965087   \n",
       "\n",
       "   runtime                                   spoken_languages    status  \\\n",
       "0    162.0  [{\"iso_639_1\": \"en\", \"name\": \"English\"}, {\"iso...  Released   \n",
       "\n",
       "                       tagline   title  vote_average  vote_count  \n",
       "0  Enter the World of Pandora.  Avatar           7.2       11800  "
      ]
     },
     "execution_count": 4,
     "metadata": {},
     "output_type": "execute_result"
    }
   ],
   "source": [
    "movies.head(1)"
   ]
  },
  {
   "cell_type": "code",
   "execution_count": 5,
   "id": "e727ec80-df8b-4a72-b812-8837ffdd037c",
   "metadata": {},
   "outputs": [],
   "source": [
    "#MARGE TWO DATA FRAME\n",
    "#BASIS OF TITLE\n"
   ]
  },
  {
   "cell_type": "code",
   "execution_count": 6,
   "id": "4cb42202-a074-4237-b8f0-127ab1901202",
   "metadata": {},
   "outputs": [],
   "source": [
    "movies=movies.merge(credits,on='title')"
   ]
  },
  {
   "cell_type": "code",
   "execution_count": 7,
   "id": "547a5abf-7523-46ad-8a97-f1aef7bb09c7",
   "metadata": {},
   "outputs": [
    {
     "data": {
      "text/plain": [
       "(4803, 4)"
      ]
     },
     "execution_count": 7,
     "metadata": {},
     "output_type": "execute_result"
    }
   ],
   "source": [
    "credits.shape"
   ]
  },
  {
   "cell_type": "code",
   "execution_count": 8,
   "id": "168aafb2-7e14-4ad4-adc8-455ca7e5eadd",
   "metadata": {},
   "outputs": [
    {
     "data": {
      "text/html": [
       "<div>\n",
       "<style scoped>\n",
       "    .dataframe tbody tr th:only-of-type {\n",
       "        vertical-align: middle;\n",
       "    }\n",
       "\n",
       "    .dataframe tbody tr th {\n",
       "        vertical-align: top;\n",
       "    }\n",
       "\n",
       "    .dataframe thead th {\n",
       "        text-align: right;\n",
       "    }\n",
       "</style>\n",
       "<table border=\"1\" class=\"dataframe\">\n",
       "  <thead>\n",
       "    <tr style=\"text-align: right;\">\n",
       "      <th></th>\n",
       "      <th>budget</th>\n",
       "      <th>genres</th>\n",
       "      <th>homepage</th>\n",
       "      <th>id</th>\n",
       "      <th>keywords</th>\n",
       "      <th>original_language</th>\n",
       "      <th>original_title</th>\n",
       "      <th>overview</th>\n",
       "      <th>popularity</th>\n",
       "      <th>production_companies</th>\n",
       "      <th>...</th>\n",
       "      <th>runtime</th>\n",
       "      <th>spoken_languages</th>\n",
       "      <th>status</th>\n",
       "      <th>tagline</th>\n",
       "      <th>title</th>\n",
       "      <th>vote_average</th>\n",
       "      <th>vote_count</th>\n",
       "      <th>movie_id</th>\n",
       "      <th>cast</th>\n",
       "      <th>crew</th>\n",
       "    </tr>\n",
       "  </thead>\n",
       "  <tbody>\n",
       "    <tr>\n",
       "      <th>0</th>\n",
       "      <td>237000000</td>\n",
       "      <td>[{\"id\": 28, \"name\": \"Action\"}, {\"id\": 12, \"nam...</td>\n",
       "      <td>http://www.avatarmovie.com/</td>\n",
       "      <td>19995</td>\n",
       "      <td>[{\"id\": 1463, \"name\": \"culture clash\"}, {\"id\":...</td>\n",
       "      <td>en</td>\n",
       "      <td>Avatar</td>\n",
       "      <td>In the 22nd century, a paraplegic Marine is di...</td>\n",
       "      <td>150.437577</td>\n",
       "      <td>[{\"name\": \"Ingenious Film Partners\", \"id\": 289...</td>\n",
       "      <td>...</td>\n",
       "      <td>162.0</td>\n",
       "      <td>[{\"iso_639_1\": \"en\", \"name\": \"English\"}, {\"iso...</td>\n",
       "      <td>Released</td>\n",
       "      <td>Enter the World of Pandora.</td>\n",
       "      <td>Avatar</td>\n",
       "      <td>7.2</td>\n",
       "      <td>11800</td>\n",
       "      <td>19995</td>\n",
       "      <td>[{\"cast_id\": 242, \"character\": \"Jake Sully\", \"...</td>\n",
       "      <td>[{\"credit_id\": \"52fe48009251416c750aca23\", \"de...</td>\n",
       "    </tr>\n",
       "  </tbody>\n",
       "</table>\n",
       "<p>1 rows × 23 columns</p>\n",
       "</div>"
      ],
      "text/plain": [
       "      budget                                             genres  \\\n",
       "0  237000000  [{\"id\": 28, \"name\": \"Action\"}, {\"id\": 12, \"nam...   \n",
       "\n",
       "                      homepage     id  \\\n",
       "0  http://www.avatarmovie.com/  19995   \n",
       "\n",
       "                                            keywords original_language  \\\n",
       "0  [{\"id\": 1463, \"name\": \"culture clash\"}, {\"id\":...                en   \n",
       "\n",
       "  original_title                                           overview  \\\n",
       "0         Avatar  In the 22nd century, a paraplegic Marine is di...   \n",
       "\n",
       "   popularity                               production_companies  ... runtime  \\\n",
       "0  150.437577  [{\"name\": \"Ingenious Film Partners\", \"id\": 289...  ...   162.0   \n",
       "\n",
       "                                    spoken_languages    status  \\\n",
       "0  [{\"iso_639_1\": \"en\", \"name\": \"English\"}, {\"iso...  Released   \n",
       "\n",
       "                       tagline   title vote_average vote_count movie_id  \\\n",
       "0  Enter the World of Pandora.  Avatar          7.2      11800    19995   \n",
       "\n",
       "                                                cast  \\\n",
       "0  [{\"cast_id\": 242, \"character\": \"Jake Sully\", \"...   \n",
       "\n",
       "                                                crew  \n",
       "0  [{\"credit_id\": \"52fe48009251416c750aca23\", \"de...  \n",
       "\n",
       "[1 rows x 23 columns]"
      ]
     },
     "execution_count": 8,
     "metadata": {},
     "output_type": "execute_result"
    }
   ],
   "source": [
    "movies.head(1)"
   ]
  },
  {
   "cell_type": "code",
   "execution_count": 9,
   "id": "5bb82dc9-6f83-4161-8af0-4523bc9edfef",
   "metadata": {},
   "outputs": [
    {
     "data": {
      "text/plain": [
       "(4809, 23)"
      ]
     },
     "execution_count": 9,
     "metadata": {},
     "output_type": "execute_result"
    }
   ],
   "source": [
    "movies.shape"
   ]
  },
  {
   "cell_type": "code",
   "execution_count": 10,
   "id": "308b28c0-243a-4247-8dbf-56341bce5fcd",
   "metadata": {},
   "outputs": [],
   "source": [
    "#remove unwanted col"
   ]
  },
  {
   "cell_type": "code",
   "execution_count": 11,
   "id": "e9173b51-401f-405c-92a0-733b36cd2bf9",
   "metadata": {},
   "outputs": [
    {
     "name": "stdout",
     "output_type": "stream",
     "text": [
      "<class 'pandas.core.frame.DataFrame'>\n",
      "RangeIndex: 4809 entries, 0 to 4808\n",
      "Data columns (total 23 columns):\n",
      " #   Column                Non-Null Count  Dtype  \n",
      "---  ------                --------------  -----  \n",
      " 0   budget                4809 non-null   int64  \n",
      " 1   genres                4809 non-null   object \n",
      " 2   homepage              1713 non-null   object \n",
      " 3   id                    4809 non-null   int64  \n",
      " 4   keywords              4809 non-null   object \n",
      " 5   original_language     4809 non-null   object \n",
      " 6   original_title        4809 non-null   object \n",
      " 7   overview              4806 non-null   object \n",
      " 8   popularity            4809 non-null   float64\n",
      " 9   production_companies  4809 non-null   object \n",
      " 10  production_countries  4809 non-null   object \n",
      " 11  release_date          4808 non-null   object \n",
      " 12  revenue               4809 non-null   int64  \n",
      " 13  runtime               4807 non-null   float64\n",
      " 14  spoken_languages      4809 non-null   object \n",
      " 15  status                4809 non-null   object \n",
      " 16  tagline               3965 non-null   object \n",
      " 17  title                 4809 non-null   object \n",
      " 18  vote_average          4809 non-null   float64\n",
      " 19  vote_count            4809 non-null   int64  \n",
      " 20  movie_id              4809 non-null   int64  \n",
      " 21  cast                  4809 non-null   object \n",
      " 22  crew                  4809 non-null   object \n",
      "dtypes: float64(3), int64(5), object(15)\n",
      "memory usage: 864.2+ KB\n"
     ]
    }
   ],
   "source": [
    "movies.info()"
   ]
  },
  {
   "cell_type": "code",
   "execution_count": 12,
   "id": "603aaf0d-c77c-4d11-8e99-5c2a7ba793f6",
   "metadata": {},
   "outputs": [],
   "source": [
    "# genres\n",
    "# id\n",
    "# keywords\n",
    "# title\n",
    "# overview\n",
    "# cast_y \n",
    "# crew_y\n",
    "movies = movies[['movie_id', 'title', 'overview', 'genres', 'keywords', 'cast', 'crew']]\n"
   ]
  },
  {
   "cell_type": "code",
   "execution_count": 13,
   "id": "8524a8fb-29f9-4daa-b372-5e602a3df224",
   "metadata": {},
   "outputs": [
    {
     "data": {
      "text/html": [
       "<div>\n",
       "<style scoped>\n",
       "    .dataframe tbody tr th:only-of-type {\n",
       "        vertical-align: middle;\n",
       "    }\n",
       "\n",
       "    .dataframe tbody tr th {\n",
       "        vertical-align: top;\n",
       "    }\n",
       "\n",
       "    .dataframe thead th {\n",
       "        text-align: right;\n",
       "    }\n",
       "</style>\n",
       "<table border=\"1\" class=\"dataframe\">\n",
       "  <thead>\n",
       "    <tr style=\"text-align: right;\">\n",
       "      <th></th>\n",
       "      <th>movie_id</th>\n",
       "      <th>title</th>\n",
       "      <th>overview</th>\n",
       "      <th>genres</th>\n",
       "      <th>keywords</th>\n",
       "      <th>cast</th>\n",
       "      <th>crew</th>\n",
       "    </tr>\n",
       "  </thead>\n",
       "  <tbody>\n",
       "    <tr>\n",
       "      <th>0</th>\n",
       "      <td>19995</td>\n",
       "      <td>Avatar</td>\n",
       "      <td>In the 22nd century, a paraplegic Marine is di...</td>\n",
       "      <td>[{\"id\": 28, \"name\": \"Action\"}, {\"id\": 12, \"nam...</td>\n",
       "      <td>[{\"id\": 1463, \"name\": \"culture clash\"}, {\"id\":...</td>\n",
       "      <td>[{\"cast_id\": 242, \"character\": \"Jake Sully\", \"...</td>\n",
       "      <td>[{\"credit_id\": \"52fe48009251416c750aca23\", \"de...</td>\n",
       "    </tr>\n",
       "  </tbody>\n",
       "</table>\n",
       "</div>"
      ],
      "text/plain": [
       "   movie_id   title                                           overview  \\\n",
       "0     19995  Avatar  In the 22nd century, a paraplegic Marine is di...   \n",
       "\n",
       "                                              genres  \\\n",
       "0  [{\"id\": 28, \"name\": \"Action\"}, {\"id\": 12, \"nam...   \n",
       "\n",
       "                                            keywords  \\\n",
       "0  [{\"id\": 1463, \"name\": \"culture clash\"}, {\"id\":...   \n",
       "\n",
       "                                                cast  \\\n",
       "0  [{\"cast_id\": 242, \"character\": \"Jake Sully\", \"...   \n",
       "\n",
       "                                                crew  \n",
       "0  [{\"credit_id\": \"52fe48009251416c750aca23\", \"de...  "
      ]
     },
     "execution_count": 13,
     "metadata": {},
     "output_type": "execute_result"
    }
   ],
   "source": [
    "movies.head(1)"
   ]
  },
  {
   "cell_type": "code",
   "execution_count": 14,
   "id": "7601ab2d-e468-4d98-a630-039d7cf7a569",
   "metadata": {},
   "outputs": [
    {
     "data": {
      "text/plain": [
       "movie_id    0\n",
       "title       0\n",
       "overview    3\n",
       "genres      0\n",
       "keywords    0\n",
       "cast        0\n",
       "crew        0\n",
       "dtype: int64"
      ]
     },
     "execution_count": 14,
     "metadata": {},
     "output_type": "execute_result"
    }
   ],
   "source": [
    "#remove missing data\n",
    "movies.isnull().sum()"
   ]
  },
  {
   "cell_type": "code",
   "execution_count": 15,
   "id": "31a6fd18-95f7-48dc-b001-71584802f353",
   "metadata": {},
   "outputs": [],
   "source": [
    "#removing overview misiing data\n",
    "movies.dropna(inplace=True)\n"
   ]
  },
  {
   "cell_type": "code",
   "execution_count": 16,
   "id": "1ca01d6c-5040-4a92-9970-2ed31a84f0ac",
   "metadata": {},
   "outputs": [
    {
     "data": {
      "text/plain": [
       "movie_id    0\n",
       "title       0\n",
       "overview    0\n",
       "genres      0\n",
       "keywords    0\n",
       "cast        0\n",
       "crew        0\n",
       "dtype: int64"
      ]
     },
     "execution_count": 16,
     "metadata": {},
     "output_type": "execute_result"
    }
   ],
   "source": [
    "movies.isnull().sum()"
   ]
  },
  {
   "cell_type": "code",
   "execution_count": 17,
   "id": "a2189776-eda7-4135-b309-59f75c968755",
   "metadata": {},
   "outputs": [
    {
     "data": {
      "text/plain": [
       "np.int64(0)"
      ]
     },
     "execution_count": 17,
     "metadata": {},
     "output_type": "execute_result"
    }
   ],
   "source": [
    "#remove duplicate data\n",
    "movies.duplicated().sum()\n"
   ]
  },
  {
   "cell_type": "code",
   "execution_count": 18,
   "id": "206356b3-1562-4142-a14c-9bc2197ab394",
   "metadata": {},
   "outputs": [
    {
     "data": {
      "text/plain": [
       "'[{\"id\": 28, \"name\": \"Action\"}, {\"id\": 12, \"name\": \"Adventure\"}, {\"id\": 14, \"name\": \"Fantasy\"}, {\"id\": 878, \"name\": \"Science Fiction\"}]'"
      ]
     },
     "execution_count": 18,
     "metadata": {},
     "output_type": "execute_result"
    }
   ],
   "source": [
    "movies.iloc[0].genres"
   ]
  },
  {
   "cell_type": "code",
   "execution_count": 19,
   "id": "a8bab6c1-9d57-41db-afe0-83b0494658e9",
   "metadata": {},
   "outputs": [],
   "source": [
    "#sructuredway\n",
    "# ['Action','Adventure','Fantasy','Science Fiction']\n",
    "import ast\n",
    "def convert(obj):\n",
    "    L=[]\n",
    "    for i in ast.literal_eval(obj):\n",
    "        L.append(i['name'])\n",
    "    return L       "
   ]
  },
  {
   "cell_type": "code",
   "execution_count": 20,
   "id": "c842fb4e-7216-41f3-80ad-391b8da00f32",
   "metadata": {},
   "outputs": [],
   "source": [
    "movies['genres']=  movies['genres'].apply(convert)"
   ]
  },
  {
   "cell_type": "code",
   "execution_count": 21,
   "id": "bd5eb635-c790-4f38-9629-f1e20cb53d7c",
   "metadata": {},
   "outputs": [
    {
     "data": {
      "text/html": [
       "<div>\n",
       "<style scoped>\n",
       "    .dataframe tbody tr th:only-of-type {\n",
       "        vertical-align: middle;\n",
       "    }\n",
       "\n",
       "    .dataframe tbody tr th {\n",
       "        vertical-align: top;\n",
       "    }\n",
       "\n",
       "    .dataframe thead th {\n",
       "        text-align: right;\n",
       "    }\n",
       "</style>\n",
       "<table border=\"1\" class=\"dataframe\">\n",
       "  <thead>\n",
       "    <tr style=\"text-align: right;\">\n",
       "      <th></th>\n",
       "      <th>movie_id</th>\n",
       "      <th>title</th>\n",
       "      <th>overview</th>\n",
       "      <th>genres</th>\n",
       "      <th>keywords</th>\n",
       "      <th>cast</th>\n",
       "      <th>crew</th>\n",
       "    </tr>\n",
       "  </thead>\n",
       "  <tbody>\n",
       "    <tr>\n",
       "      <th>0</th>\n",
       "      <td>19995</td>\n",
       "      <td>Avatar</td>\n",
       "      <td>In the 22nd century, a paraplegic Marine is di...</td>\n",
       "      <td>[Action, Adventure, Fantasy, Science Fiction]</td>\n",
       "      <td>[{\"id\": 1463, \"name\": \"culture clash\"}, {\"id\":...</td>\n",
       "      <td>[{\"cast_id\": 242, \"character\": \"Jake Sully\", \"...</td>\n",
       "      <td>[{\"credit_id\": \"52fe48009251416c750aca23\", \"de...</td>\n",
       "    </tr>\n",
       "    <tr>\n",
       "      <th>1</th>\n",
       "      <td>285</td>\n",
       "      <td>Pirates of the Caribbean: At World's End</td>\n",
       "      <td>Captain Barbossa, long believed to be dead, ha...</td>\n",
       "      <td>[Adventure, Fantasy, Action]</td>\n",
       "      <td>[{\"id\": 270, \"name\": \"ocean\"}, {\"id\": 726, \"na...</td>\n",
       "      <td>[{\"cast_id\": 4, \"character\": \"Captain Jack Spa...</td>\n",
       "      <td>[{\"credit_id\": \"52fe4232c3a36847f800b579\", \"de...</td>\n",
       "    </tr>\n",
       "    <tr>\n",
       "      <th>2</th>\n",
       "      <td>206647</td>\n",
       "      <td>Spectre</td>\n",
       "      <td>A cryptic message from Bond’s past sends him o...</td>\n",
       "      <td>[Action, Adventure, Crime]</td>\n",
       "      <td>[{\"id\": 470, \"name\": \"spy\"}, {\"id\": 818, \"name...</td>\n",
       "      <td>[{\"cast_id\": 1, \"character\": \"James Bond\", \"cr...</td>\n",
       "      <td>[{\"credit_id\": \"54805967c3a36829b5002c41\", \"de...</td>\n",
       "    </tr>\n",
       "    <tr>\n",
       "      <th>3</th>\n",
       "      <td>49026</td>\n",
       "      <td>The Dark Knight Rises</td>\n",
       "      <td>Following the death of District Attorney Harve...</td>\n",
       "      <td>[Action, Crime, Drama, Thriller]</td>\n",
       "      <td>[{\"id\": 849, \"name\": \"dc comics\"}, {\"id\": 853,...</td>\n",
       "      <td>[{\"cast_id\": 2, \"character\": \"Bruce Wayne / Ba...</td>\n",
       "      <td>[{\"credit_id\": \"52fe4781c3a36847f81398c3\", \"de...</td>\n",
       "    </tr>\n",
       "    <tr>\n",
       "      <th>4</th>\n",
       "      <td>49529</td>\n",
       "      <td>John Carter</td>\n",
       "      <td>John Carter is a war-weary, former military ca...</td>\n",
       "      <td>[Action, Adventure, Science Fiction]</td>\n",
       "      <td>[{\"id\": 818, \"name\": \"based on novel\"}, {\"id\":...</td>\n",
       "      <td>[{\"cast_id\": 5, \"character\": \"John Carter\", \"c...</td>\n",
       "      <td>[{\"credit_id\": \"52fe479ac3a36847f813eaa3\", \"de...</td>\n",
       "    </tr>\n",
       "  </tbody>\n",
       "</table>\n",
       "</div>"
      ],
      "text/plain": [
       "   movie_id                                     title  \\\n",
       "0     19995                                    Avatar   \n",
       "1       285  Pirates of the Caribbean: At World's End   \n",
       "2    206647                                   Spectre   \n",
       "3     49026                     The Dark Knight Rises   \n",
       "4     49529                               John Carter   \n",
       "\n",
       "                                            overview  \\\n",
       "0  In the 22nd century, a paraplegic Marine is di...   \n",
       "1  Captain Barbossa, long believed to be dead, ha...   \n",
       "2  A cryptic message from Bond’s past sends him o...   \n",
       "3  Following the death of District Attorney Harve...   \n",
       "4  John Carter is a war-weary, former military ca...   \n",
       "\n",
       "                                          genres  \\\n",
       "0  [Action, Adventure, Fantasy, Science Fiction]   \n",
       "1                   [Adventure, Fantasy, Action]   \n",
       "2                     [Action, Adventure, Crime]   \n",
       "3               [Action, Crime, Drama, Thriller]   \n",
       "4           [Action, Adventure, Science Fiction]   \n",
       "\n",
       "                                            keywords  \\\n",
       "0  [{\"id\": 1463, \"name\": \"culture clash\"}, {\"id\":...   \n",
       "1  [{\"id\": 270, \"name\": \"ocean\"}, {\"id\": 726, \"na...   \n",
       "2  [{\"id\": 470, \"name\": \"spy\"}, {\"id\": 818, \"name...   \n",
       "3  [{\"id\": 849, \"name\": \"dc comics\"}, {\"id\": 853,...   \n",
       "4  [{\"id\": 818, \"name\": \"based on novel\"}, {\"id\":...   \n",
       "\n",
       "                                                cast  \\\n",
       "0  [{\"cast_id\": 242, \"character\": \"Jake Sully\", \"...   \n",
       "1  [{\"cast_id\": 4, \"character\": \"Captain Jack Spa...   \n",
       "2  [{\"cast_id\": 1, \"character\": \"James Bond\", \"cr...   \n",
       "3  [{\"cast_id\": 2, \"character\": \"Bruce Wayne / Ba...   \n",
       "4  [{\"cast_id\": 5, \"character\": \"John Carter\", \"c...   \n",
       "\n",
       "                                                crew  \n",
       "0  [{\"credit_id\": \"52fe48009251416c750aca23\", \"de...  \n",
       "1  [{\"credit_id\": \"52fe4232c3a36847f800b579\", \"de...  \n",
       "2  [{\"credit_id\": \"54805967c3a36829b5002c41\", \"de...  \n",
       "3  [{\"credit_id\": \"52fe4781c3a36847f81398c3\", \"de...  \n",
       "4  [{\"credit_id\": \"52fe479ac3a36847f813eaa3\", \"de...  "
      ]
     },
     "execution_count": 21,
     "metadata": {},
     "output_type": "execute_result"
    }
   ],
   "source": [
    "movies.head()"
   ]
  },
  {
   "cell_type": "code",
   "execution_count": 22,
   "id": "77b11670-079e-41e7-8b50-452e656f2311",
   "metadata": {},
   "outputs": [],
   "source": [
    "movies['keywords']=movies['keywords'].apply(convert)"
   ]
  },
  {
   "cell_type": "code",
   "execution_count": 23,
   "id": "8cda8e27-4d97-4f99-8d5c-9ce0d1850448",
   "metadata": {},
   "outputs": [],
   "source": [
    "import ast\n",
    "\n",
    "def convert3(obj):\n",
    "    L = []\n",
    "    count = 0\n",
    "    for i in ast.literal_eval(obj):\n",
    "        if count != 3:\n",
    "            L.append(i['name'])\n",
    "            count += 1\n",
    "        else:\n",
    "            break\n",
    "    return L\n"
   ]
  },
  {
   "cell_type": "code",
   "execution_count": 24,
   "id": "3745f409-a479-44ce-8f35-c67b59fb5717",
   "metadata": {},
   "outputs": [],
   "source": [
    "movies['cast']=movies['cast'].apply(convert3)"
   ]
  },
  {
   "cell_type": "code",
   "execution_count": 25,
   "id": "8d87564f-05e4-4690-b1be-9fdbde52f5c4",
   "metadata": {},
   "outputs": [
    {
     "data": {
      "text/plain": [
       "'[{\"credit_id\": \"52fe48009251416c750aca23\", \"department\": \"Editing\", \"gender\": 0, \"id\": 1721, \"job\": \"Editor\", \"name\": \"Stephen E. Rivkin\"}, {\"credit_id\": \"539c47ecc3a36810e3001f87\", \"department\": \"Art\", \"gender\": 2, \"id\": 496, \"job\": \"Production Design\", \"name\": \"Rick Carter\"}, {\"credit_id\": \"54491c89c3a3680fb4001cf7\", \"department\": \"Sound\", \"gender\": 0, \"id\": 900, \"job\": \"Sound Designer\", \"name\": \"Christopher Boyes\"}, {\"credit_id\": \"54491cb70e0a267480001bd0\", \"department\": \"Sound\", \"gender\": 0, \"id\": 900, \"job\": \"Supervising Sound Editor\", \"name\": \"Christopher Boyes\"}, {\"credit_id\": \"539c4a4cc3a36810c9002101\", \"department\": \"Production\", \"gender\": 1, \"id\": 1262, \"job\": \"Casting\", \"name\": \"Mali Finn\"}, {\"credit_id\": \"5544ee3b925141499f0008fc\", \"department\": \"Sound\", \"gender\": 2, \"id\": 1729, \"job\": \"Original Music Composer\", \"name\": \"James Horner\"}, {\"credit_id\": \"52fe48009251416c750ac9c3\", \"department\": \"Directing\", \"gender\": 2, \"id\": 2710, \"job\": \"Director\", \"name\": \"James Cameron\"}, {\"credit_id\": \"52fe48009251416c750ac9d9\", \"department\": \"Writing\", \"gender\": 2, \"id\": 2710, \"job\": \"Writer\", \"name\": \"James Cameron\"}, {\"credit_id\": \"52fe48009251416c750aca17\", \"department\": \"Editing\", \"gender\": 2, \"id\": 2710, \"job\": \"Editor\", \"name\": \"James Cameron\"}, {\"credit_id\": \"52fe48009251416c750aca29\", \"department\": \"Production\", \"gender\": 2, \"id\": 2710, \"job\": \"Producer\", \"name\": \"James Cameron\"}, {\"credit_id\": \"52fe48009251416c750aca3f\", \"department\": \"Writing\", \"gender\": 2, \"id\": 2710, \"job\": \"Screenplay\", \"name\": \"James Cameron\"}, {\"credit_id\": \"539c4987c3a36810ba0021a4\", \"department\": \"Art\", \"gender\": 2, \"id\": 7236, \"job\": \"Art Direction\", \"name\": \"Andrew Menzies\"}, {\"credit_id\": \"549598c3c3a3686ae9004383\", \"department\": \"Visual Effects\", \"gender\": 0, \"id\": 6690, \"job\": \"Visual Effects Producer\", \"name\": \"Jill Brooks\"}, {\"credit_id\": \"52fe48009251416c750aca4b\", \"department\": \"Production\", \"gender\": 1, \"id\": 6347, \"job\": \"Casting\", \"name\": \"Margery Simkin\"}, {\"credit_id\": \"570b6f419251417da70032fe\", \"department\": \"Art\", \"gender\": 2, \"id\": 6878, \"job\": \"Supervising Art Director\", \"name\": \"Kevin Ishioka\"}, {\"credit_id\": \"5495a0fac3a3686ae9004468\", \"department\": \"Sound\", \"gender\": 0, \"id\": 6883, \"job\": \"Music Editor\", \"name\": \"Dick Bernstein\"}, {\"credit_id\": \"54959706c3a3686af3003e81\", \"department\": \"Sound\", \"gender\": 0, \"id\": 8159, \"job\": \"Sound Effects Editor\", \"name\": \"Shannon Mills\"}, {\"credit_id\": \"54491d58c3a3680fb1001ccb\", \"department\": \"Sound\", \"gender\": 0, \"id\": 8160, \"job\": \"Foley\", \"name\": \"Dennie Thorpe\"}, {\"credit_id\": \"54491d6cc3a3680fa5001b2c\", \"department\": \"Sound\", \"gender\": 0, \"id\": 8163, \"job\": \"Foley\", \"name\": \"Jana Vance\"}, {\"credit_id\": \"52fe48009251416c750aca57\", \"department\": \"Costume & Make-Up\", \"gender\": 1, \"id\": 8527, \"job\": \"Costume Design\", \"name\": \"Deborah Lynn Scott\"}, {\"credit_id\": \"52fe48009251416c750aca2f\", \"department\": \"Production\", \"gender\": 2, \"id\": 8529, \"job\": \"Producer\", \"name\": \"Jon Landau\"}, {\"credit_id\": \"539c4937c3a36810ba002194\", \"department\": \"Art\", \"gender\": 0, \"id\": 9618, \"job\": \"Art Direction\", \"name\": \"Sean Haworth\"}, {\"credit_id\": \"539c49b6c3a36810c10020e6\", \"department\": \"Art\", \"gender\": 1, \"id\": 12653, \"job\": \"Set Decoration\", \"name\": \"Kim Sinclair\"}, {\"credit_id\": \"570b6f2f9251413a0e00020d\", \"department\": \"Art\", \"gender\": 1, \"id\": 12653, \"job\": \"Supervising Art Director\", \"name\": \"Kim Sinclair\"}, {\"credit_id\": \"54491a6c0e0a26748c001b19\", \"department\": \"Art\", \"gender\": 2, \"id\": 14350, \"job\": \"Set Designer\", \"name\": \"Richard F. Mays\"}, {\"credit_id\": \"56928cf4c3a3684cff0025c4\", \"department\": \"Production\", \"gender\": 1, \"id\": 20294, \"job\": \"Executive Producer\", \"name\": \"Laeta Kalogridis\"}, {\"credit_id\": \"52fe48009251416c750aca51\", \"department\": \"Costume & Make-Up\", \"gender\": 0, \"id\": 17675, \"job\": \"Costume Design\", \"name\": \"Mayes C. Rubeo\"}, {\"credit_id\": \"52fe48009251416c750aca11\", \"department\": \"Camera\", \"gender\": 2, \"id\": 18265, \"job\": \"Director of Photography\", \"name\": \"Mauro Fiore\"}, {\"credit_id\": \"5449194d0e0a26748f001b39\", \"department\": \"Art\", \"gender\": 0, \"id\": 42281, \"job\": \"Set Designer\", \"name\": \"Scott Herbertson\"}, {\"credit_id\": \"52fe48009251416c750aca05\", \"department\": \"Crew\", \"gender\": 0, \"id\": 42288, \"job\": \"Stunts\", \"name\": \"Woody Schultz\"}, {\"credit_id\": \"5592aefb92514152de0010f5\", \"department\": \"Costume & Make-Up\", \"gender\": 0, \"id\": 29067, \"job\": \"Makeup Artist\", \"name\": \"Linda DeVetta\"}, {\"credit_id\": \"5592afa492514152de00112c\", \"department\": \"Costume & Make-Up\", \"gender\": 0, \"id\": 29067, \"job\": \"Hairstylist\", \"name\": \"Linda DeVetta\"}, {\"credit_id\": \"54959ed592514130fc002e5d\", \"department\": \"Camera\", \"gender\": 2, \"id\": 33302, \"job\": \"Camera Operator\", \"name\": \"Richard Bluck\"}, {\"credit_id\": \"539c4891c3a36810ba002147\", \"department\": \"Art\", \"gender\": 2, \"id\": 33303, \"job\": \"Art Direction\", \"name\": \"Simon Bright\"}, {\"credit_id\": \"54959c069251417a81001f3a\", \"department\": \"Visual Effects\", \"gender\": 0, \"id\": 113145, \"job\": \"Visual Effects Supervisor\", \"name\": \"Richard Martin\"}, {\"credit_id\": \"54959a0dc3a3680ff5002c8d\", \"department\": \"Crew\", \"gender\": 2, \"id\": 58188, \"job\": \"Visual Effects Editor\", \"name\": \"Steve R. Moore\"}, {\"credit_id\": \"52fe48009251416c750aca1d\", \"department\": \"Editing\", \"gender\": 2, \"id\": 58871, \"job\": \"Editor\", \"name\": \"John Refoua\"}, {\"credit_id\": \"54491a4dc3a3680fc30018ca\", \"department\": \"Art\", \"gender\": 0, \"id\": 92359, \"job\": \"Set Designer\", \"name\": \"Karl J. Martin\"}, {\"credit_id\": \"52fe48009251416c750aca35\", \"department\": \"Camera\", \"gender\": 1, \"id\": 72201, \"job\": \"Director of Photography\", \"name\": \"Chiling Lin\"}, {\"credit_id\": \"52fe48009251416c750ac9ff\", \"department\": \"Crew\", \"gender\": 0, \"id\": 89714, \"job\": \"Stunts\", \"name\": \"Ilram Choi\"}, {\"credit_id\": \"54959c529251416e2b004394\", \"department\": \"Visual Effects\", \"gender\": 2, \"id\": 93214, \"job\": \"Visual Effects Supervisor\", \"name\": \"Steven Quale\"}, {\"credit_id\": \"54491edf0e0a267489001c37\", \"department\": \"Crew\", \"gender\": 1, \"id\": 122607, \"job\": \"Dialect Coach\", \"name\": \"Carla Meyer\"}, {\"credit_id\": \"539c485bc3a368653d001a3a\", \"department\": \"Art\", \"gender\": 2, \"id\": 132585, \"job\": \"Art Direction\", \"name\": \"Nick Bassett\"}, {\"credit_id\": \"539c4903c3a368653d001a74\", \"department\": \"Art\", \"gender\": 0, \"id\": 132596, \"job\": \"Art Direction\", \"name\": \"Jill Cormack\"}, {\"credit_id\": \"539c4967c3a368653d001a94\", \"department\": \"Art\", \"gender\": 0, \"id\": 132604, \"job\": \"Art Direction\", \"name\": \"Andy McLaren\"}, {\"credit_id\": \"52fe48009251416c750aca45\", \"department\": \"Crew\", \"gender\": 0, \"id\": 236696, \"job\": \"Motion Capture Artist\", \"name\": \"Terry Notary\"}, {\"credit_id\": \"54959e02c3a3680fc60027d2\", \"department\": \"Crew\", \"gender\": 2, \"id\": 956198, \"job\": \"Stunt Coordinator\", \"name\": \"Garrett Warren\"}, {\"credit_id\": \"54959ca3c3a3686ae300438c\", \"department\": \"Visual Effects\", \"gender\": 2, \"id\": 957874, \"job\": \"Visual Effects Supervisor\", \"name\": \"Jonathan Rothbart\"}, {\"credit_id\": \"570b6f519251412c74001b2f\", \"department\": \"Art\", \"gender\": 0, \"id\": 957889, \"job\": \"Supervising Art Director\", \"name\": \"Stefan Dechant\"}, {\"credit_id\": \"570b6f62c3a3680b77007460\", \"department\": \"Art\", \"gender\": 2, \"id\": 959555, \"job\": \"Supervising Art Director\", \"name\": \"Todd Cherniawsky\"}, {\"credit_id\": \"539c4a3ac3a36810da0021cc\", \"department\": \"Production\", \"gender\": 0, \"id\": 1016177, \"job\": \"Casting\", \"name\": \"Miranda Rivers\"}, {\"credit_id\": \"539c482cc3a36810c1002062\", \"department\": \"Art\", \"gender\": 0, \"id\": 1032536, \"job\": \"Production Design\", \"name\": \"Robert Stromberg\"}, {\"credit_id\": \"539c4b65c3a36810c9002125\", \"department\": \"Costume & Make-Up\", \"gender\": 2, \"id\": 1071680, \"job\": \"Costume Design\", \"name\": \"John Harding\"}, {\"credit_id\": \"54959e6692514130fc002e4e\", \"department\": \"Camera\", \"gender\": 0, \"id\": 1177364, \"job\": \"Steadicam Operator\", \"name\": \"Roberto De Angelis\"}, {\"credit_id\": \"539c49f1c3a368653d001aac\", \"department\": \"Costume & Make-Up\", \"gender\": 2, \"id\": 1202850, \"job\": \"Makeup Department Head\", \"name\": \"Mike Smithson\"}, {\"credit_id\": \"5495999ec3a3686ae100460c\", \"department\": \"Visual Effects\", \"gender\": 0, \"id\": 1204668, \"job\": \"Visual Effects Producer\", \"name\": \"Alain Lalanne\"}, {\"credit_id\": \"54959cdfc3a3681153002729\", \"department\": \"Visual Effects\", \"gender\": 0, \"id\": 1206410, \"job\": \"Visual Effects Supervisor\", \"name\": \"Lucas Salton\"}, {\"credit_id\": \"549596239251417a81001eae\", \"department\": \"Crew\", \"gender\": 0, \"id\": 1234266, \"job\": \"Post Production Supervisor\", \"name\": \"Janace Tashjian\"}, {\"credit_id\": \"54959c859251416e1e003efe\", \"department\": \"Visual Effects\", \"gender\": 0, \"id\": 1271932, \"job\": \"Visual Effects Supervisor\", \"name\": \"Stephen Rosenbaum\"}, {\"credit_id\": \"5592af28c3a368775a00105f\", \"department\": \"Costume & Make-Up\", \"gender\": 0, \"id\": 1310064, \"job\": \"Makeup Artist\", \"name\": \"Frankie Karena\"}, {\"credit_id\": \"539c4adfc3a36810e300203b\", \"department\": \"Costume & Make-Up\", \"gender\": 1, \"id\": 1319844, \"job\": \"Costume Supervisor\", \"name\": \"Lisa Lovaas\"}, {\"credit_id\": \"54959b579251416e2b004371\", \"department\": \"Visual Effects\", \"gender\": 0, \"id\": 1327028, \"job\": \"Visual Effects Supervisor\", \"name\": \"Jonathan Fawkner\"}, {\"credit_id\": \"539c48a7c3a36810b5001fa7\", \"department\": \"Art\", \"gender\": 0, \"id\": 1330561, \"job\": \"Art Direction\", \"name\": \"Robert Bavin\"}, {\"credit_id\": \"539c4a71c3a36810da0021e0\", \"department\": \"Costume & Make-Up\", \"gender\": 0, \"id\": 1330567, \"job\": \"Costume Supervisor\", \"name\": \"Anthony Almaraz\"}, {\"credit_id\": \"539c4a8ac3a36810ba0021e4\", \"department\": \"Costume & Make-Up\", \"gender\": 0, \"id\": 1330570, \"job\": \"Costume Supervisor\", \"name\": \"Carolyn M. Fenton\"}, {\"credit_id\": \"539c4ab6c3a36810da0021f0\", \"department\": \"Costume & Make-Up\", \"gender\": 0, \"id\": 1330574, \"job\": \"Costume Supervisor\", \"name\": \"Beth Koenigsberg\"}, {\"credit_id\": \"54491ab70e0a267480001ba2\", \"department\": \"Art\", \"gender\": 0, \"id\": 1336191, \"job\": \"Set Designer\", \"name\": \"Sam Page\"}, {\"credit_id\": \"544919d9c3a3680fc30018bd\", \"department\": \"Art\", \"gender\": 0, \"id\": 1339441, \"job\": \"Set Designer\", \"name\": \"Tex Kadonaga\"}, {\"credit_id\": \"54491cf50e0a267483001b0c\", \"department\": \"Editing\", \"gender\": 0, \"id\": 1352422, \"job\": \"Dialogue Editor\", \"name\": \"Kim Foscato\"}, {\"credit_id\": \"544919f40e0a26748c001b09\", \"department\": \"Art\", \"gender\": 0, \"id\": 1352962, \"job\": \"Set Designer\", \"name\": \"Tammy S. Lee\"}, {\"credit_id\": \"5495a115c3a3680ff5002d71\", \"department\": \"Crew\", \"gender\": 0, \"id\": 1357070, \"job\": \"Transportation Coordinator\", \"name\": \"Denny Caira\"}, {\"credit_id\": \"5495a12f92514130fc002e94\", \"department\": \"Crew\", \"gender\": 0, \"id\": 1357071, \"job\": \"Transportation Coordinator\", \"name\": \"James Waitkus\"}, {\"credit_id\": \"5495976fc3a36811530026b0\", \"department\": \"Sound\", \"gender\": 0, \"id\": 1360103, \"job\": \"Supervising Sound Editor\", \"name\": \"Addison Teague\"}, {\"credit_id\": \"54491837c3a3680fb1001c5a\", \"department\": \"Art\", \"gender\": 2, \"id\": 1376887, \"job\": \"Set Designer\", \"name\": \"C. Scott Baker\"}, {\"credit_id\": \"54491878c3a3680fb4001c9d\", \"department\": \"Art\", \"gender\": 0, \"id\": 1376888, \"job\": \"Set Designer\", \"name\": \"Luke Caska\"}, {\"credit_id\": \"544918dac3a3680fa5001ae0\", \"department\": \"Art\", \"gender\": 0, \"id\": 1376889, \"job\": \"Set Designer\", \"name\": \"David Chow\"}, {\"credit_id\": \"544919110e0a267486001b68\", \"department\": \"Art\", \"gender\": 0, \"id\": 1376890, \"job\": \"Set Designer\", \"name\": \"Jonathan Dyer\"}, {\"credit_id\": \"54491967c3a3680faa001b5e\", \"department\": \"Art\", \"gender\": 0, \"id\": 1376891, \"job\": \"Set Designer\", \"name\": \"Joseph Hiura\"}, {\"credit_id\": \"54491997c3a3680fb1001c8a\", \"department\": \"Art\", \"gender\": 0, \"id\": 1376892, \"job\": \"Art Department Coordinator\", \"name\": \"Rebecca Jellie\"}, {\"credit_id\": \"544919ba0e0a26748f001b42\", \"department\": \"Art\", \"gender\": 0, \"id\": 1376893, \"job\": \"Set Designer\", \"name\": \"Robert Andrew Johnson\"}, {\"credit_id\": \"54491b1dc3a3680faa001b8c\", \"department\": \"Art\", \"gender\": 0, \"id\": 1376895, \"job\": \"Assistant Art Director\", \"name\": \"Mike Stassi\"}, {\"credit_id\": \"54491b79c3a3680fbb001826\", \"department\": \"Art\", \"gender\": 0, \"id\": 1376897, \"job\": \"Construction Coordinator\", \"name\": \"John Villarino\"}, {\"credit_id\": \"54491baec3a3680fb4001ce6\", \"department\": \"Art\", \"gender\": 2, \"id\": 1376898, \"job\": \"Assistant Art Director\", \"name\": \"Jeffrey Wisniewski\"}, {\"credit_id\": \"54491d2fc3a3680fb4001d07\", \"department\": \"Editing\", \"gender\": 0, \"id\": 1376899, \"job\": \"Dialogue Editor\", \"name\": \"Cheryl Nardi\"}, {\"credit_id\": \"54491d86c3a3680fa5001b2f\", \"department\": \"Editing\", \"gender\": 0, \"id\": 1376901, \"job\": \"Dialogue Editor\", \"name\": \"Marshall Winn\"}, {\"credit_id\": \"54491d9dc3a3680faa001bb0\", \"department\": \"Sound\", \"gender\": 0, \"id\": 1376902, \"job\": \"Supervising Sound Editor\", \"name\": \"Gwendolyn Yates Whittle\"}, {\"credit_id\": \"54491dc10e0a267486001bce\", \"department\": \"Sound\", \"gender\": 0, \"id\": 1376903, \"job\": \"Sound Re-Recording Mixer\", \"name\": \"William Stein\"}, {\"credit_id\": \"54491f500e0a26747c001c07\", \"department\": \"Crew\", \"gender\": 0, \"id\": 1376909, \"job\": \"Choreographer\", \"name\": \"Lula Washington\"}, {\"credit_id\": \"549599239251412c4e002a2e\", \"department\": \"Visual Effects\", \"gender\": 0, \"id\": 1391692, \"job\": \"Visual Effects Producer\", \"name\": \"Chris Del Conte\"}, {\"credit_id\": \"54959d54c3a36831b8001d9a\", \"department\": \"Visual Effects\", \"gender\": 2, \"id\": 1391695, \"job\": \"Visual Effects Supervisor\", \"name\": \"R. Christopher White\"}, {\"credit_id\": \"54959bdf9251412c4e002a66\", \"department\": \"Visual Effects\", \"gender\": 0, \"id\": 1394070, \"job\": \"Visual Effects Supervisor\", \"name\": \"Dan Lemmon\"}, {\"credit_id\": \"5495971d92514132ed002922\", \"department\": \"Sound\", \"gender\": 0, \"id\": 1394129, \"job\": \"Sound Effects Editor\", \"name\": \"Tim Nielsen\"}, {\"credit_id\": \"5592b25792514152cc0011aa\", \"department\": \"Crew\", \"gender\": 0, \"id\": 1394286, \"job\": \"CG Supervisor\", \"name\": \"Michael Mulholland\"}, {\"credit_id\": \"54959a329251416e2b004355\", \"department\": \"Crew\", \"gender\": 0, \"id\": 1394750, \"job\": \"Visual Effects Editor\", \"name\": \"Thomas Nittmann\"}, {\"credit_id\": \"54959d6dc3a3686ae9004401\", \"department\": \"Visual Effects\", \"gender\": 0, \"id\": 1394755, \"job\": \"Visual Effects Supervisor\", \"name\": \"Edson Williams\"}, {\"credit_id\": \"5495a08fc3a3686ae300441c\", \"department\": \"Editing\", \"gender\": 0, \"id\": 1394953, \"job\": \"Digital Intermediate\", \"name\": \"Christine Carr\"}, {\"credit_id\": \"55402d659251413d6d000249\", \"department\": \"Visual Effects\", \"gender\": 0, \"id\": 1395269, \"job\": \"Visual Effects Supervisor\", \"name\": \"John Bruno\"}, {\"credit_id\": \"54959e7b9251416e1e003f3e\", \"department\": \"Camera\", \"gender\": 0, \"id\": 1398970, \"job\": \"Steadicam Operator\", \"name\": \"David Emmerichs\"}, {\"credit_id\": \"54959734c3a3686ae10045e0\", \"department\": \"Sound\", \"gender\": 0, \"id\": 1400906, \"job\": \"Sound Effects Editor\", \"name\": \"Christopher Scarabosio\"}, {\"credit_id\": \"549595dd92514130fc002d79\", \"department\": \"Production\", \"gender\": 0, \"id\": 1401784, \"job\": \"Production Supervisor\", \"name\": \"Jennifer Teves\"}, {\"credit_id\": \"549596009251413af70028cc\", \"department\": \"Production\", \"gender\": 0, \"id\": 1401785, \"job\": \"Production Manager\", \"name\": \"Brigitte Yorke\"}, {\"credit_id\": \"549596e892514130fc002d99\", \"department\": \"Sound\", \"gender\": 0, \"id\": 1401786, \"job\": \"Sound Effects Editor\", \"name\": \"Ken Fischer\"}, {\"credit_id\": \"549598229251412c4e002a1c\", \"department\": \"Crew\", \"gender\": 0, \"id\": 1401787, \"job\": \"Special Effects Coordinator\", \"name\": \"Iain Hutton\"}, {\"credit_id\": \"549598349251416e2b00432b\", \"department\": \"Crew\", \"gender\": 0, \"id\": 1401788, \"job\": \"Special Effects Coordinator\", \"name\": \"Steve Ingram\"}, {\"credit_id\": \"54959905c3a3686ae3004324\", \"department\": \"Visual Effects\", \"gender\": 0, \"id\": 1401789, \"job\": \"Visual Effects Producer\", \"name\": \"Joyce Cox\"}, {\"credit_id\": \"5495994b92514132ed002951\", \"department\": \"Visual Effects\", \"gender\": 0, \"id\": 1401790, \"job\": \"Visual Effects Producer\", \"name\": \"Jenny Foster\"}, {\"credit_id\": \"549599cbc3a3686ae1004613\", \"department\": \"Crew\", \"gender\": 0, \"id\": 1401791, \"job\": \"Visual Effects Editor\", \"name\": \"Christopher Marino\"}, {\"credit_id\": \"549599f2c3a3686ae100461e\", \"department\": \"Crew\", \"gender\": 0, \"id\": 1401792, \"job\": \"Visual Effects Editor\", \"name\": \"Jim Milton\"}, {\"credit_id\": \"54959a51c3a3686af3003eb5\", \"department\": \"Visual Effects\", \"gender\": 0, \"id\": 1401793, \"job\": \"Visual Effects Producer\", \"name\": \"Cyndi Ochs\"}, {\"credit_id\": \"54959a7cc3a36811530026f4\", \"department\": \"Crew\", \"gender\": 0, \"id\": 1401794, \"job\": \"Visual Effects Editor\", \"name\": \"Lucas Putnam\"}, {\"credit_id\": \"54959b91c3a3680ff5002cb4\", \"department\": \"Visual Effects\", \"gender\": 0, \"id\": 1401795, \"job\": \"Visual Effects Supervisor\", \"name\": \"Anthony \\'Max\\' Ivins\"}, {\"credit_id\": \"54959bb69251412c4e002a5f\", \"department\": \"Visual Effects\", \"gender\": 0, \"id\": 1401796, \"job\": \"Visual Effects Supervisor\", \"name\": \"John Knoll\"}, {\"credit_id\": \"54959cbbc3a3686ae3004391\", \"department\": \"Visual Effects\", \"gender\": 2, \"id\": 1401799, \"job\": \"Visual Effects Supervisor\", \"name\": \"Eric Saindon\"}, {\"credit_id\": \"54959d06c3a3686ae90043f6\", \"department\": \"Visual Effects\", \"gender\": 0, \"id\": 1401800, \"job\": \"Visual Effects Supervisor\", \"name\": \"Wayne Stables\"}, {\"credit_id\": \"54959d259251416e1e003f11\", \"department\": \"Visual Effects\", \"gender\": 0, \"id\": 1401801, \"job\": \"Visual Effects Supervisor\", \"name\": \"David Stinnett\"}, {\"credit_id\": \"54959db49251413af7002975\", \"department\": \"Visual Effects\", \"gender\": 0, \"id\": 1401803, \"job\": \"Visual Effects Supervisor\", \"name\": \"Guy Williams\"}, {\"credit_id\": \"54959de4c3a3681153002750\", \"department\": \"Crew\", \"gender\": 0, \"id\": 1401804, \"job\": \"Stunt Coordinator\", \"name\": \"Stuart Thorp\"}, {\"credit_id\": \"54959ef2c3a3680fc60027f2\", \"department\": \"Lighting\", \"gender\": 0, \"id\": 1401805, \"job\": \"Best Boy Electric\", \"name\": \"Giles Coburn\"}, {\"credit_id\": \"54959f07c3a3680fc60027f9\", \"department\": \"Camera\", \"gender\": 2, \"id\": 1401806, \"job\": \"Still Photographer\", \"name\": \"Mark Fellman\"}, {\"credit_id\": \"54959f47c3a3681153002774\", \"department\": \"Lighting\", \"gender\": 0, \"id\": 1401807, \"job\": \"Lighting Technician\", \"name\": \"Scott Sprague\"}, {\"credit_id\": \"54959f8cc3a36831b8001df2\", \"department\": \"Visual Effects\", \"gender\": 0, \"id\": 1401808, \"job\": \"Animation Director\", \"name\": \"Jeremy Hollobon\"}, {\"credit_id\": \"54959fa0c3a36831b8001dfb\", \"department\": \"Visual Effects\", \"gender\": 0, \"id\": 1401809, \"job\": \"Animation Director\", \"name\": \"Orlando Meunier\"}, {\"credit_id\": \"54959fb6c3a3686af3003f54\", \"department\": \"Visual Effects\", \"gender\": 0, \"id\": 1401810, \"job\": \"Animation Director\", \"name\": \"Taisuke Tanimura\"}, {\"credit_id\": \"54959fd2c3a36831b8001e02\", \"department\": \"Costume & Make-Up\", \"gender\": 0, \"id\": 1401812, \"job\": \"Set Costumer\", \"name\": \"Lilia Mishel Acevedo\"}, {\"credit_id\": \"54959ff9c3a3686ae300440c\", \"department\": \"Costume & Make-Up\", \"gender\": 0, \"id\": 1401814, \"job\": \"Set Costumer\", \"name\": \"Alejandro M. Hernandez\"}, {\"credit_id\": \"5495a0ddc3a3686ae10046fe\", \"department\": \"Editing\", \"gender\": 0, \"id\": 1401815, \"job\": \"Digital Intermediate\", \"name\": \"Marvin Hall\"}, {\"credit_id\": \"5495a1f7c3a3686ae3004443\", \"department\": \"Production\", \"gender\": 0, \"id\": 1401816, \"job\": \"Publicist\", \"name\": \"Judy Alley\"}, {\"credit_id\": \"5592b29fc3a36869d100002f\", \"department\": \"Crew\", \"gender\": 0, \"id\": 1418381, \"job\": \"CG Supervisor\", \"name\": \"Mike Perry\"}, {\"credit_id\": \"5592b23a9251415df8001081\", \"department\": \"Crew\", \"gender\": 0, \"id\": 1426854, \"job\": \"CG Supervisor\", \"name\": \"Andrew Morley\"}, {\"credit_id\": \"55491e1192514104c40002d8\", \"department\": \"Art\", \"gender\": 0, \"id\": 1438901, \"job\": \"Conceptual Design\", \"name\": \"Seth Engstrom\"}, {\"credit_id\": \"5525d5809251417276002b06\", \"department\": \"Crew\", \"gender\": 0, \"id\": 1447362, \"job\": \"Visual Effects Art Director\", \"name\": \"Eric Oliver\"}, {\"credit_id\": \"554427ca925141586500312a\", \"department\": \"Visual Effects\", \"gender\": 0, \"id\": 1447503, \"job\": \"Modeling\", \"name\": \"Matsune Suzuki\"}, {\"credit_id\": \"551906889251415aab001c88\", \"department\": \"Art\", \"gender\": 0, \"id\": 1447524, \"job\": \"Art Department Manager\", \"name\": \"Paul Tobin\"}, {\"credit_id\": \"5592af8492514152cc0010de\", \"department\": \"Costume & Make-Up\", \"gender\": 0, \"id\": 1452643, \"job\": \"Hairstylist\", \"name\": \"Roxane Griffin\"}, {\"credit_id\": \"553d3c109251415852001318\", \"department\": \"Lighting\", \"gender\": 0, \"id\": 1453938, \"job\": \"Lighting Artist\", \"name\": \"Arun Ram-Mohan\"}, {\"credit_id\": \"5592af4692514152d5001355\", \"department\": \"Costume & Make-Up\", \"gender\": 0, \"id\": 1457305, \"job\": \"Makeup Artist\", \"name\": \"Georgia Lockhart-Adams\"}, {\"credit_id\": \"5592b2eac3a36877470012a5\", \"department\": \"Crew\", \"gender\": 0, \"id\": 1466035, \"job\": \"CG Supervisor\", \"name\": \"Thrain Shadbolt\"}, {\"credit_id\": \"5592b032c3a36877450015f1\", \"department\": \"Crew\", \"gender\": 0, \"id\": 1483220, \"job\": \"CG Supervisor\", \"name\": \"Brad Alexander\"}, {\"credit_id\": \"5592b05592514152d80012f6\", \"department\": \"Crew\", \"gender\": 0, \"id\": 1483221, \"job\": \"CG Supervisor\", \"name\": \"Shadi Almassizadeh\"}, {\"credit_id\": \"5592b090c3a36877570010b5\", \"department\": \"Crew\", \"gender\": 0, \"id\": 1483222, \"job\": \"CG Supervisor\", \"name\": \"Simon Clutterbuck\"}, {\"credit_id\": \"5592b0dbc3a368774b00112c\", \"department\": \"Crew\", \"gender\": 0, \"id\": 1483223, \"job\": \"CG Supervisor\", \"name\": \"Graeme Demmocks\"}, {\"credit_id\": \"5592b0fe92514152db0010c1\", \"department\": \"Crew\", \"gender\": 0, \"id\": 1483224, \"job\": \"CG Supervisor\", \"name\": \"Adrian Fernandes\"}, {\"credit_id\": \"5592b11f9251415df8001059\", \"department\": \"Crew\", \"gender\": 0, \"id\": 1483225, \"job\": \"CG Supervisor\", \"name\": \"Mitch Gates\"}, {\"credit_id\": \"5592b15dc3a3687745001645\", \"department\": \"Crew\", \"gender\": 0, \"id\": 1483226, \"job\": \"CG Supervisor\", \"name\": \"Jerry Kung\"}, {\"credit_id\": \"5592b18e925141645a0004ae\", \"department\": \"Crew\", \"gender\": 0, \"id\": 1483227, \"job\": \"CG Supervisor\", \"name\": \"Andy Lomas\"}, {\"credit_id\": \"5592b1bfc3a368775d0010e7\", \"department\": \"Crew\", \"gender\": 0, \"id\": 1483228, \"job\": \"CG Supervisor\", \"name\": \"Sebastian Marino\"}, {\"credit_id\": \"5592b2049251415df8001078\", \"department\": \"Crew\", \"gender\": 0, \"id\": 1483229, \"job\": \"CG Supervisor\", \"name\": \"Matthias Menz\"}, {\"credit_id\": \"5592b27b92514152d800136a\", \"department\": \"Crew\", \"gender\": 0, \"id\": 1483230, \"job\": \"CG Supervisor\", \"name\": \"Sergei Nevshupov\"}, {\"credit_id\": \"5592b2c3c3a36869e800003c\", \"department\": \"Crew\", \"gender\": 0, \"id\": 1483231, \"job\": \"CG Supervisor\", \"name\": \"Philippe Rebours\"}, {\"credit_id\": \"5592b317c3a36877470012af\", \"department\": \"Crew\", \"gender\": 0, \"id\": 1483232, \"job\": \"CG Supervisor\", \"name\": \"Michael Takarangi\"}, {\"credit_id\": \"5592b345c3a36877470012bb\", \"department\": \"Crew\", \"gender\": 0, \"id\": 1483233, \"job\": \"CG Supervisor\", \"name\": \"David Weitzberg\"}, {\"credit_id\": \"5592b37cc3a368775100113b\", \"department\": \"Crew\", \"gender\": 0, \"id\": 1483234, \"job\": \"CG Supervisor\", \"name\": \"Ben White\"}, {\"credit_id\": \"573c8e2f9251413f5d000094\", \"department\": \"Crew\", \"gender\": 1, \"id\": 1621932, \"job\": \"Stunts\", \"name\": \"Min Windle\"}]'"
      ]
     },
     "execution_count": 25,
     "metadata": {},
     "output_type": "execute_result"
    }
   ],
   "source": [
    "movies['crew'][0]"
   ]
  },
  {
   "cell_type": "code",
   "execution_count": 26,
   "id": "4521ee68-8f44-4ce3-957a-bba0845f9029",
   "metadata": {},
   "outputs": [],
   "source": [
    "import ast\n",
    "def fetch_director(obj):\n",
    "    L=[]\n",
    "    for i in ast.literal_eval(obj):\n",
    "        if i['job']=='Director':\n",
    "            L.append(i['name'])\n",
    "    return L       "
   ]
  },
  {
   "cell_type": "code",
   "execution_count": 27,
   "id": "81ba5d20-fc31-45ac-a761-1eaa8dfdf4c5",
   "metadata": {},
   "outputs": [
    {
     "data": {
      "text/plain": [
       "0                                [James Cameron]\n",
       "1                               [Gore Verbinski]\n",
       "2                                   [Sam Mendes]\n",
       "3                            [Christopher Nolan]\n",
       "4                               [Andrew Stanton]\n",
       "                          ...                   \n",
       "4804                          [Robert Rodriguez]\n",
       "4805                              [Edward Burns]\n",
       "4806                               [Scott Smith]\n",
       "4807                               [Daniel Hsia]\n",
       "4808    [Brian Herzlinger, Jon Gunn, Brett Winn]\n",
       "Name: crew, Length: 4806, dtype: object"
      ]
     },
     "execution_count": 27,
     "metadata": {},
     "output_type": "execute_result"
    }
   ],
   "source": [
    "movies['crew'].apply(fetch_director)"
   ]
  },
  {
   "cell_type": "code",
   "execution_count": 28,
   "id": "7cae0567-8833-4f5a-9ef3-a9ce4aecdf7b",
   "metadata": {},
   "outputs": [
    {
     "data": {
      "text/html": [
       "<div>\n",
       "<style scoped>\n",
       "    .dataframe tbody tr th:only-of-type {\n",
       "        vertical-align: middle;\n",
       "    }\n",
       "\n",
       "    .dataframe tbody tr th {\n",
       "        vertical-align: top;\n",
       "    }\n",
       "\n",
       "    .dataframe thead th {\n",
       "        text-align: right;\n",
       "    }\n",
       "</style>\n",
       "<table border=\"1\" class=\"dataframe\">\n",
       "  <thead>\n",
       "    <tr style=\"text-align: right;\">\n",
       "      <th></th>\n",
       "      <th>movie_id</th>\n",
       "      <th>title</th>\n",
       "      <th>overview</th>\n",
       "      <th>genres</th>\n",
       "      <th>keywords</th>\n",
       "      <th>cast</th>\n",
       "      <th>crew</th>\n",
       "    </tr>\n",
       "  </thead>\n",
       "  <tbody>\n",
       "    <tr>\n",
       "      <th>0</th>\n",
       "      <td>19995</td>\n",
       "      <td>Avatar</td>\n",
       "      <td>In the 22nd century, a paraplegic Marine is di...</td>\n",
       "      <td>[Action, Adventure, Fantasy, Science Fiction]</td>\n",
       "      <td>[culture clash, future, space war, space colon...</td>\n",
       "      <td>[Sam Worthington, Zoe Saldana, Sigourney Weaver]</td>\n",
       "      <td>[{\"credit_id\": \"52fe48009251416c750aca23\", \"de...</td>\n",
       "    </tr>\n",
       "    <tr>\n",
       "      <th>1</th>\n",
       "      <td>285</td>\n",
       "      <td>Pirates of the Caribbean: At World's End</td>\n",
       "      <td>Captain Barbossa, long believed to be dead, ha...</td>\n",
       "      <td>[Adventure, Fantasy, Action]</td>\n",
       "      <td>[ocean, drug abuse, exotic island, east india ...</td>\n",
       "      <td>[Johnny Depp, Orlando Bloom, Keira Knightley]</td>\n",
       "      <td>[{\"credit_id\": \"52fe4232c3a36847f800b579\", \"de...</td>\n",
       "    </tr>\n",
       "    <tr>\n",
       "      <th>2</th>\n",
       "      <td>206647</td>\n",
       "      <td>Spectre</td>\n",
       "      <td>A cryptic message from Bond’s past sends him o...</td>\n",
       "      <td>[Action, Adventure, Crime]</td>\n",
       "      <td>[spy, based on novel, secret agent, sequel, mi...</td>\n",
       "      <td>[Daniel Craig, Christoph Waltz, Léa Seydoux]</td>\n",
       "      <td>[{\"credit_id\": \"54805967c3a36829b5002c41\", \"de...</td>\n",
       "    </tr>\n",
       "    <tr>\n",
       "      <th>3</th>\n",
       "      <td>49026</td>\n",
       "      <td>The Dark Knight Rises</td>\n",
       "      <td>Following the death of District Attorney Harve...</td>\n",
       "      <td>[Action, Crime, Drama, Thriller]</td>\n",
       "      <td>[dc comics, crime fighter, terrorist, secret i...</td>\n",
       "      <td>[Christian Bale, Michael Caine, Gary Oldman]</td>\n",
       "      <td>[{\"credit_id\": \"52fe4781c3a36847f81398c3\", \"de...</td>\n",
       "    </tr>\n",
       "    <tr>\n",
       "      <th>4</th>\n",
       "      <td>49529</td>\n",
       "      <td>John Carter</td>\n",
       "      <td>John Carter is a war-weary, former military ca...</td>\n",
       "      <td>[Action, Adventure, Science Fiction]</td>\n",
       "      <td>[based on novel, mars, medallion, space travel...</td>\n",
       "      <td>[Taylor Kitsch, Lynn Collins, Samantha Morton]</td>\n",
       "      <td>[{\"credit_id\": \"52fe479ac3a36847f813eaa3\", \"de...</td>\n",
       "    </tr>\n",
       "  </tbody>\n",
       "</table>\n",
       "</div>"
      ],
      "text/plain": [
       "   movie_id                                     title  \\\n",
       "0     19995                                    Avatar   \n",
       "1       285  Pirates of the Caribbean: At World's End   \n",
       "2    206647                                   Spectre   \n",
       "3     49026                     The Dark Knight Rises   \n",
       "4     49529                               John Carter   \n",
       "\n",
       "                                            overview  \\\n",
       "0  In the 22nd century, a paraplegic Marine is di...   \n",
       "1  Captain Barbossa, long believed to be dead, ha...   \n",
       "2  A cryptic message from Bond’s past sends him o...   \n",
       "3  Following the death of District Attorney Harve...   \n",
       "4  John Carter is a war-weary, former military ca...   \n",
       "\n",
       "                                          genres  \\\n",
       "0  [Action, Adventure, Fantasy, Science Fiction]   \n",
       "1                   [Adventure, Fantasy, Action]   \n",
       "2                     [Action, Adventure, Crime]   \n",
       "3               [Action, Crime, Drama, Thriller]   \n",
       "4           [Action, Adventure, Science Fiction]   \n",
       "\n",
       "                                            keywords  \\\n",
       "0  [culture clash, future, space war, space colon...   \n",
       "1  [ocean, drug abuse, exotic island, east india ...   \n",
       "2  [spy, based on novel, secret agent, sequel, mi...   \n",
       "3  [dc comics, crime fighter, terrorist, secret i...   \n",
       "4  [based on novel, mars, medallion, space travel...   \n",
       "\n",
       "                                               cast  \\\n",
       "0  [Sam Worthington, Zoe Saldana, Sigourney Weaver]   \n",
       "1     [Johnny Depp, Orlando Bloom, Keira Knightley]   \n",
       "2      [Daniel Craig, Christoph Waltz, Léa Seydoux]   \n",
       "3      [Christian Bale, Michael Caine, Gary Oldman]   \n",
       "4    [Taylor Kitsch, Lynn Collins, Samantha Morton]   \n",
       "\n",
       "                                                crew  \n",
       "0  [{\"credit_id\": \"52fe48009251416c750aca23\", \"de...  \n",
       "1  [{\"credit_id\": \"52fe4232c3a36847f800b579\", \"de...  \n",
       "2  [{\"credit_id\": \"54805967c3a36829b5002c41\", \"de...  \n",
       "3  [{\"credit_id\": \"52fe4781c3a36847f81398c3\", \"de...  \n",
       "4  [{\"credit_id\": \"52fe479ac3a36847f813eaa3\", \"de...  "
      ]
     },
     "execution_count": 28,
     "metadata": {},
     "output_type": "execute_result"
    }
   ],
   "source": [
    "movies.head()"
   ]
  },
  {
   "cell_type": "code",
   "execution_count": 29,
   "id": "4934cec8-7eef-43c6-a211-682d241a365e",
   "metadata": {},
   "outputs": [],
   "source": [
    "#overview string=list\n",
    "movies['overview']=movies['overview'].apply(lambda x:x.split())"
   ]
  },
  {
   "cell_type": "code",
   "execution_count": 30,
   "id": "7f85b08a-ee93-4090-835b-9b300ed09713",
   "metadata": {},
   "outputs": [],
   "source": [
    "#Transformaion remove space\n",
    "# selim ansari to selimansari\n",
    "\n",
    "movies['genres'] =movies['genres'].apply(lambda x: [i.replace(\" \", \"\") for i in x])\n",
    "movies['keywords'] =movies['keywords'].apply(lambda x: [i.replace(\" \", \"\") for i in x])\n",
    "movies['cast'] =movies['cast'].apply(lambda x: [i.replace(\" \", \"\") for i in x])\n",
    "movies['crew'] =movies['crew'].apply(lambda x: [i.replace(\" \", \"\") for i in x])"
   ]
  },
  {
   "cell_type": "code",
   "execution_count": 31,
   "id": "67567952-b3c6-41f6-911b-d6b98ebec0fb",
   "metadata": {},
   "outputs": [],
   "source": [
    "# Convert overview to a list first, then concatenate all lists\n",
    "movies['tags']=movies['overview']+movies['genres']+movies['keywords']+movies['cast']+movies['crew']"
   ]
  },
  {
   "cell_type": "code",
   "execution_count": 32,
   "id": "9bc25c6a-4800-4f0c-982c-6558c9c14827",
   "metadata": {},
   "outputs": [],
   "source": [
    "#movie_id\n",
    "#title\n",
    "#tag"
   ]
  },
  {
   "cell_type": "code",
   "execution_count": 33,
   "id": "ce6322e4-50cd-4857-99af-40407ca93683",
   "metadata": {},
   "outputs": [
    {
     "data": {
      "text/html": [
       "<div>\n",
       "<style scoped>\n",
       "    .dataframe tbody tr th:only-of-type {\n",
       "        vertical-align: middle;\n",
       "    }\n",
       "\n",
       "    .dataframe tbody tr th {\n",
       "        vertical-align: top;\n",
       "    }\n",
       "\n",
       "    .dataframe thead th {\n",
       "        text-align: right;\n",
       "    }\n",
       "</style>\n",
       "<table border=\"1\" class=\"dataframe\">\n",
       "  <thead>\n",
       "    <tr style=\"text-align: right;\">\n",
       "      <th></th>\n",
       "      <th>movie_id</th>\n",
       "      <th>title</th>\n",
       "      <th>overview</th>\n",
       "      <th>genres</th>\n",
       "      <th>keywords</th>\n",
       "      <th>cast</th>\n",
       "      <th>crew</th>\n",
       "      <th>tags</th>\n",
       "    </tr>\n",
       "  </thead>\n",
       "  <tbody>\n",
       "    <tr>\n",
       "      <th>0</th>\n",
       "      <td>19995</td>\n",
       "      <td>Avatar</td>\n",
       "      <td>[In, the, 22nd, century,, a, paraplegic, Marin...</td>\n",
       "      <td>[Action, Adventure, Fantasy, ScienceFiction]</td>\n",
       "      <td>[cultureclash, future, spacewar, spacecolony, ...</td>\n",
       "      <td>[SamWorthington, ZoeSaldana, SigourneyWeaver]</td>\n",
       "      <td>[[, {, \", c, r, e, d, i, t, _, i, d, \", :, , \"...</td>\n",
       "      <td>[In, the, 22nd, century,, a, paraplegic, Marin...</td>\n",
       "    </tr>\n",
       "    <tr>\n",
       "      <th>1</th>\n",
       "      <td>285</td>\n",
       "      <td>Pirates of the Caribbean: At World's End</td>\n",
       "      <td>[Captain, Barbossa,, long, believed, to, be, d...</td>\n",
       "      <td>[Adventure, Fantasy, Action]</td>\n",
       "      <td>[ocean, drugabuse, exoticisland, eastindiatrad...</td>\n",
       "      <td>[JohnnyDepp, OrlandoBloom, KeiraKnightley]</td>\n",
       "      <td>[[, {, \", c, r, e, d, i, t, _, i, d, \", :, , \"...</td>\n",
       "      <td>[Captain, Barbossa,, long, believed, to, be, d...</td>\n",
       "    </tr>\n",
       "    <tr>\n",
       "      <th>2</th>\n",
       "      <td>206647</td>\n",
       "      <td>Spectre</td>\n",
       "      <td>[A, cryptic, message, from, Bond’s, past, send...</td>\n",
       "      <td>[Action, Adventure, Crime]</td>\n",
       "      <td>[spy, basedonnovel, secretagent, sequel, mi6, ...</td>\n",
       "      <td>[DanielCraig, ChristophWaltz, LéaSeydoux]</td>\n",
       "      <td>[[, {, \", c, r, e, d, i, t, _, i, d, \", :, , \"...</td>\n",
       "      <td>[A, cryptic, message, from, Bond’s, past, send...</td>\n",
       "    </tr>\n",
       "    <tr>\n",
       "      <th>3</th>\n",
       "      <td>49026</td>\n",
       "      <td>The Dark Knight Rises</td>\n",
       "      <td>[Following, the, death, of, District, Attorney...</td>\n",
       "      <td>[Action, Crime, Drama, Thriller]</td>\n",
       "      <td>[dccomics, crimefighter, terrorist, secretiden...</td>\n",
       "      <td>[ChristianBale, MichaelCaine, GaryOldman]</td>\n",
       "      <td>[[, {, \", c, r, e, d, i, t, _, i, d, \", :, , \"...</td>\n",
       "      <td>[Following, the, death, of, District, Attorney...</td>\n",
       "    </tr>\n",
       "    <tr>\n",
       "      <th>4</th>\n",
       "      <td>49529</td>\n",
       "      <td>John Carter</td>\n",
       "      <td>[John, Carter, is, a, war-weary,, former, mili...</td>\n",
       "      <td>[Action, Adventure, ScienceFiction]</td>\n",
       "      <td>[basedonnovel, mars, medallion, spacetravel, p...</td>\n",
       "      <td>[TaylorKitsch, LynnCollins, SamanthaMorton]</td>\n",
       "      <td>[[, {, \", c, r, e, d, i, t, _, i, d, \", :, , \"...</td>\n",
       "      <td>[John, Carter, is, a, war-weary,, former, mili...</td>\n",
       "    </tr>\n",
       "  </tbody>\n",
       "</table>\n",
       "</div>"
      ],
      "text/plain": [
       "   movie_id                                     title  \\\n",
       "0     19995                                    Avatar   \n",
       "1       285  Pirates of the Caribbean: At World's End   \n",
       "2    206647                                   Spectre   \n",
       "3     49026                     The Dark Knight Rises   \n",
       "4     49529                               John Carter   \n",
       "\n",
       "                                            overview  \\\n",
       "0  [In, the, 22nd, century,, a, paraplegic, Marin...   \n",
       "1  [Captain, Barbossa,, long, believed, to, be, d...   \n",
       "2  [A, cryptic, message, from, Bond’s, past, send...   \n",
       "3  [Following, the, death, of, District, Attorney...   \n",
       "4  [John, Carter, is, a, war-weary,, former, mili...   \n",
       "\n",
       "                                         genres  \\\n",
       "0  [Action, Adventure, Fantasy, ScienceFiction]   \n",
       "1                  [Adventure, Fantasy, Action]   \n",
       "2                    [Action, Adventure, Crime]   \n",
       "3              [Action, Crime, Drama, Thriller]   \n",
       "4           [Action, Adventure, ScienceFiction]   \n",
       "\n",
       "                                            keywords  \\\n",
       "0  [cultureclash, future, spacewar, spacecolony, ...   \n",
       "1  [ocean, drugabuse, exoticisland, eastindiatrad...   \n",
       "2  [spy, basedonnovel, secretagent, sequel, mi6, ...   \n",
       "3  [dccomics, crimefighter, terrorist, secretiden...   \n",
       "4  [basedonnovel, mars, medallion, spacetravel, p...   \n",
       "\n",
       "                                            cast  \\\n",
       "0  [SamWorthington, ZoeSaldana, SigourneyWeaver]   \n",
       "1     [JohnnyDepp, OrlandoBloom, KeiraKnightley]   \n",
       "2      [DanielCraig, ChristophWaltz, LéaSeydoux]   \n",
       "3      [ChristianBale, MichaelCaine, GaryOldman]   \n",
       "4    [TaylorKitsch, LynnCollins, SamanthaMorton]   \n",
       "\n",
       "                                                crew  \\\n",
       "0  [[, {, \", c, r, e, d, i, t, _, i, d, \", :, , \"...   \n",
       "1  [[, {, \", c, r, e, d, i, t, _, i, d, \", :, , \"...   \n",
       "2  [[, {, \", c, r, e, d, i, t, _, i, d, \", :, , \"...   \n",
       "3  [[, {, \", c, r, e, d, i, t, _, i, d, \", :, , \"...   \n",
       "4  [[, {, \", c, r, e, d, i, t, _, i, d, \", :, , \"...   \n",
       "\n",
       "                                                tags  \n",
       "0  [In, the, 22nd, century,, a, paraplegic, Marin...  \n",
       "1  [Captain, Barbossa,, long, believed, to, be, d...  \n",
       "2  [A, cryptic, message, from, Bond’s, past, send...  \n",
       "3  [Following, the, death, of, District, Attorney...  \n",
       "4  [John, Carter, is, a, war-weary,, former, mili...  "
      ]
     },
     "execution_count": 33,
     "metadata": {},
     "output_type": "execute_result"
    }
   ],
   "source": [
    "movies.head()"
   ]
  },
  {
   "cell_type": "code",
   "execution_count": 34,
   "id": "f9694dc6-84d9-4597-8413-7f806a8dc164",
   "metadata": {},
   "outputs": [],
   "source": [
    "new_df=movies[['movie_id','title','tags']]"
   ]
  },
  {
   "cell_type": "code",
   "execution_count": 35,
   "id": "fdef2f28-cb4d-40dd-aea7-e3ec6420f7ba",
   "metadata": {},
   "outputs": [
    {
     "data": {
      "text/html": [
       "<div>\n",
       "<style scoped>\n",
       "    .dataframe tbody tr th:only-of-type {\n",
       "        vertical-align: middle;\n",
       "    }\n",
       "\n",
       "    .dataframe tbody tr th {\n",
       "        vertical-align: top;\n",
       "    }\n",
       "\n",
       "    .dataframe thead th {\n",
       "        text-align: right;\n",
       "    }\n",
       "</style>\n",
       "<table border=\"1\" class=\"dataframe\">\n",
       "  <thead>\n",
       "    <tr style=\"text-align: right;\">\n",
       "      <th></th>\n",
       "      <th>movie_id</th>\n",
       "      <th>title</th>\n",
       "      <th>tags</th>\n",
       "    </tr>\n",
       "  </thead>\n",
       "  <tbody>\n",
       "    <tr>\n",
       "      <th>0</th>\n",
       "      <td>19995</td>\n",
       "      <td>Avatar</td>\n",
       "      <td>[In, the, 22nd, century,, a, paraplegic, Marin...</td>\n",
       "    </tr>\n",
       "    <tr>\n",
       "      <th>1</th>\n",
       "      <td>285</td>\n",
       "      <td>Pirates of the Caribbean: At World's End</td>\n",
       "      <td>[Captain, Barbossa,, long, believed, to, be, d...</td>\n",
       "    </tr>\n",
       "    <tr>\n",
       "      <th>2</th>\n",
       "      <td>206647</td>\n",
       "      <td>Spectre</td>\n",
       "      <td>[A, cryptic, message, from, Bond’s, past, send...</td>\n",
       "    </tr>\n",
       "    <tr>\n",
       "      <th>3</th>\n",
       "      <td>49026</td>\n",
       "      <td>The Dark Knight Rises</td>\n",
       "      <td>[Following, the, death, of, District, Attorney...</td>\n",
       "    </tr>\n",
       "    <tr>\n",
       "      <th>4</th>\n",
       "      <td>49529</td>\n",
       "      <td>John Carter</td>\n",
       "      <td>[John, Carter, is, a, war-weary,, former, mili...</td>\n",
       "    </tr>\n",
       "    <tr>\n",
       "      <th>...</th>\n",
       "      <td>...</td>\n",
       "      <td>...</td>\n",
       "      <td>...</td>\n",
       "    </tr>\n",
       "    <tr>\n",
       "      <th>4804</th>\n",
       "      <td>9367</td>\n",
       "      <td>El Mariachi</td>\n",
       "      <td>[El, Mariachi, just, wants, to, play, his, gui...</td>\n",
       "    </tr>\n",
       "    <tr>\n",
       "      <th>4805</th>\n",
       "      <td>72766</td>\n",
       "      <td>Newlyweds</td>\n",
       "      <td>[A, newlywed, couple's, honeymoon, is, upended...</td>\n",
       "    </tr>\n",
       "    <tr>\n",
       "      <th>4806</th>\n",
       "      <td>231617</td>\n",
       "      <td>Signed, Sealed, Delivered</td>\n",
       "      <td>[\"Signed,, Sealed,, Delivered\", introduces, a,...</td>\n",
       "    </tr>\n",
       "    <tr>\n",
       "      <th>4807</th>\n",
       "      <td>126186</td>\n",
       "      <td>Shanghai Calling</td>\n",
       "      <td>[When, ambitious, New, York, attorney, Sam, is...</td>\n",
       "    </tr>\n",
       "    <tr>\n",
       "      <th>4808</th>\n",
       "      <td>25975</td>\n",
       "      <td>My Date with Drew</td>\n",
       "      <td>[Ever, since, the, second, grade, when, he, fi...</td>\n",
       "    </tr>\n",
       "  </tbody>\n",
       "</table>\n",
       "<p>4806 rows × 3 columns</p>\n",
       "</div>"
      ],
      "text/plain": [
       "      movie_id                                     title  \\\n",
       "0        19995                                    Avatar   \n",
       "1          285  Pirates of the Caribbean: At World's End   \n",
       "2       206647                                   Spectre   \n",
       "3        49026                     The Dark Knight Rises   \n",
       "4        49529                               John Carter   \n",
       "...        ...                                       ...   \n",
       "4804      9367                               El Mariachi   \n",
       "4805     72766                                 Newlyweds   \n",
       "4806    231617                 Signed, Sealed, Delivered   \n",
       "4807    126186                          Shanghai Calling   \n",
       "4808     25975                         My Date with Drew   \n",
       "\n",
       "                                                   tags  \n",
       "0     [In, the, 22nd, century,, a, paraplegic, Marin...  \n",
       "1     [Captain, Barbossa,, long, believed, to, be, d...  \n",
       "2     [A, cryptic, message, from, Bond’s, past, send...  \n",
       "3     [Following, the, death, of, District, Attorney...  \n",
       "4     [John, Carter, is, a, war-weary,, former, mili...  \n",
       "...                                                 ...  \n",
       "4804  [El, Mariachi, just, wants, to, play, his, gui...  \n",
       "4805  [A, newlywed, couple's, honeymoon, is, upended...  \n",
       "4806  [\"Signed,, Sealed,, Delivered\", introduces, a,...  \n",
       "4807  [When, ambitious, New, York, attorney, Sam, is...  \n",
       "4808  [Ever, since, the, second, grade, when, he, fi...  \n",
       "\n",
       "[4806 rows x 3 columns]"
      ]
     },
     "execution_count": 35,
     "metadata": {},
     "output_type": "execute_result"
    }
   ],
   "source": [
    "new_df"
   ]
  },
  {
   "cell_type": "code",
   "execution_count": 36,
   "id": "034e8126-9f57-46f8-8054-a7d0120cefde",
   "metadata": {},
   "outputs": [
    {
     "name": "stderr",
     "output_type": "stream",
     "text": [
      "C:\\Users\\91954\\AppData\\Local\\Temp\\ipykernel_12900\\2711814886.py:1: SettingWithCopyWarning: \n",
      "A value is trying to be set on a copy of a slice from a DataFrame.\n",
      "Try using .loc[row_indexer,col_indexer] = value instead\n",
      "\n",
      "See the caveats in the documentation: https://pandas.pydata.org/pandas-docs/stable/user_guide/indexing.html#returning-a-view-versus-a-copy\n",
      "  new_df['tags'] = new_df['tags'].apply(lambda x: \" \".join([str(i) for i in x]))\n"
     ]
    }
   ],
   "source": [
    "new_df['tags'] = new_df['tags'].apply(lambda x: \" \".join([str(i) for i in x]))\n"
   ]
  },
  {
   "cell_type": "code",
   "execution_count": 37,
   "id": "5c36ba90-40f0-438e-ac6d-84b4b8d45ae0",
   "metadata": {},
   "outputs": [
    {
     "name": "stderr",
     "output_type": "stream",
     "text": [
      "C:\\Users\\91954\\AppData\\Local\\Temp\\ipykernel_12900\\3138741225.py:2: SettingWithCopyWarning: \n",
      "A value is trying to be set on a copy of a slice from a DataFrame.\n",
      "Try using .loc[row_indexer,col_indexer] = value instead\n",
      "\n",
      "See the caveats in the documentation: https://pandas.pydata.org/pandas-docs/stable/user_guide/indexing.html#returning-a-view-versus-a-copy\n",
      "  new_df['tags'] = new_df['tags'].apply(lambda x: x.lower())\n"
     ]
    }
   ],
   "source": [
    "# Make sure there are no spaces or tabs at the beginning of the line\n",
    "new_df['tags'] = new_df['tags'].apply(lambda x: x.lower())\n"
   ]
  },
  {
   "cell_type": "code",
   "execution_count": 38,
   "id": "d89d0c15-2c79-40e1-bc79-e20ad0ca441f",
   "metadata": {},
   "outputs": [
    {
     "data": {
      "text/html": [
       "<div>\n",
       "<style scoped>\n",
       "    .dataframe tbody tr th:only-of-type {\n",
       "        vertical-align: middle;\n",
       "    }\n",
       "\n",
       "    .dataframe tbody tr th {\n",
       "        vertical-align: top;\n",
       "    }\n",
       "\n",
       "    .dataframe thead th {\n",
       "        text-align: right;\n",
       "    }\n",
       "</style>\n",
       "<table border=\"1\" class=\"dataframe\">\n",
       "  <thead>\n",
       "    <tr style=\"text-align: right;\">\n",
       "      <th></th>\n",
       "      <th>movie_id</th>\n",
       "      <th>title</th>\n",
       "      <th>tags</th>\n",
       "    </tr>\n",
       "  </thead>\n",
       "  <tbody>\n",
       "    <tr>\n",
       "      <th>0</th>\n",
       "      <td>19995</td>\n",
       "      <td>Avatar</td>\n",
       "      <td>in the 22nd century, a paraplegic marine is di...</td>\n",
       "    </tr>\n",
       "    <tr>\n",
       "      <th>1</th>\n",
       "      <td>285</td>\n",
       "      <td>Pirates of the Caribbean: At World's End</td>\n",
       "      <td>captain barbossa, long believed to be dead, ha...</td>\n",
       "    </tr>\n",
       "    <tr>\n",
       "      <th>2</th>\n",
       "      <td>206647</td>\n",
       "      <td>Spectre</td>\n",
       "      <td>a cryptic message from bond’s past sends him o...</td>\n",
       "    </tr>\n",
       "    <tr>\n",
       "      <th>3</th>\n",
       "      <td>49026</td>\n",
       "      <td>The Dark Knight Rises</td>\n",
       "      <td>following the death of district attorney harve...</td>\n",
       "    </tr>\n",
       "    <tr>\n",
       "      <th>4</th>\n",
       "      <td>49529</td>\n",
       "      <td>John Carter</td>\n",
       "      <td>john carter is a war-weary, former military ca...</td>\n",
       "    </tr>\n",
       "  </tbody>\n",
       "</table>\n",
       "</div>"
      ],
      "text/plain": [
       "   movie_id                                     title  \\\n",
       "0     19995                                    Avatar   \n",
       "1       285  Pirates of the Caribbean: At World's End   \n",
       "2    206647                                   Spectre   \n",
       "3     49026                     The Dark Knight Rises   \n",
       "4     49529                               John Carter   \n",
       "\n",
       "                                                tags  \n",
       "0  in the 22nd century, a paraplegic marine is di...  \n",
       "1  captain barbossa, long believed to be dead, ha...  \n",
       "2  a cryptic message from bond’s past sends him o...  \n",
       "3  following the death of district attorney harve...  \n",
       "4  john carter is a war-weary, former military ca...  "
      ]
     },
     "execution_count": 38,
     "metadata": {},
     "output_type": "execute_result"
    }
   ],
   "source": [
    "new_df.head()"
   ]
  },
  {
   "cell_type": "code",
   "execution_count": 39,
   "id": "53ef3cdf-7a01-46dc-82d3-fe8c2e9a2632",
   "metadata": {},
   "outputs": [],
   "source": [
    "import nltk\n",
    "from nltk.stem.porter import PorterStemmer"
   ]
  },
  {
   "cell_type": "code",
   "execution_count": 40,
   "id": "f57e0268-47f3-4cdf-874d-04073206534b",
   "metadata": {},
   "outputs": [],
   "source": [
    "ps=PorterStemmer()\n",
    "def stem (text):\n",
    "    y=[]\n",
    "    for i in text.split():\n",
    "        y.append(ps.stem(i))\n",
    "    return \" \".join(y)    \n"
   ]
  },
  {
   "cell_type": "code",
   "execution_count": 41,
   "id": "8f367ba3-b1aa-41ff-a00c-5f8cb80a83c0",
   "metadata": {},
   "outputs": [
    {
     "name": "stderr",
     "output_type": "stream",
     "text": [
      "C:\\Users\\91954\\AppData\\Local\\Temp\\ipykernel_12900\\3514595201.py:1: SettingWithCopyWarning: \n",
      "A value is trying to be set on a copy of a slice from a DataFrame.\n",
      "Try using .loc[row_indexer,col_indexer] = value instead\n",
      "\n",
      "See the caveats in the documentation: https://pandas.pydata.org/pandas-docs/stable/user_guide/indexing.html#returning-a-view-versus-a-copy\n",
      "  new_df['tags']=new_df['tags'].apply(stem)\n"
     ]
    }
   ],
   "source": [
    "new_df['tags']=new_df['tags'].apply(stem)"
   ]
  },
  {
   "cell_type": "code",
   "execution_count": 42,
   "id": "ec5362a4-50f1-46a2-ba01-cce4cb9bfc78",
   "metadata": {},
   "outputs": [
    {
     "data": {
      "text/plain": [
       "'in the 22nd century, a parapleg marin is dispatch to the moon pandora on a uniqu mission, but becom torn between follow order and protect an alien civilization. action adventur fantasi sciencefict cultureclash futur spacewar spacecoloni societi spacetravel futurist romanc space alien tribe alienplanet cgi marin soldier battl loveaffair antiwar powerrel mindandsoul 3d samworthington zoesaldana sigourneyweav [ { \" c r e d i t _ i d \" : \" 5 2 f e 4 8 0 0 9 2 5 1 4 1 6 c 7 5 0 a c a 2 3 \" , \" d e p a r t m e n t \" : \" e d i t i n g \" , \" g e n d e r \" : 0 , \" i d \" : 1 7 2 1 , \" j o b \" : \" e d i t o r \" , \" n a m e \" : \" s t e p h e n e . r i v k i n \" } , { \" c r e d i t _ i d \" : \" 5 3 9 c 4 7 e c c 3 a 3 6 8 1 0 e 3 0 0 1 f 8 7 \" , \" d e p a r t m e n t \" : \" a r t \" , \" g e n d e r \" : 2 , \" i d \" : 4 9 6 , \" j o b \" : \" p r o d u c t i o n d e s i g n \" , \" n a m e \" : \" r i c k c a r t e r \" } , { \" c r e d i t _ i d \" : \" 5 4 4 9 1 c 8 9 c 3 a 3 6 8 0 f b 4 0 0 1 c f 7 \" , \" d e p a r t m e n t \" : \" s o u n d \" , \" g e n d e r \" : 0 , \" i d \" : 9 0 0 , \" j o b \" : \" s o u n d d e s i g n e r \" , \" n a m e \" : \" c h r i s t o p h e r b o y e s \" } , { \" c r e d i t _ i d \" : \" 5 4 4 9 1 c b 7 0 e 0 a 2 6 7 4 8 0 0 0 1 b d 0 \" , \" d e p a r t m e n t \" : \" s o u n d \" , \" g e n d e r \" : 0 , \" i d \" : 9 0 0 , \" j o b \" : \" s u p e r v i s i n g s o u n d e d i t o r \" , \" n a m e \" : \" c h r i s t o p h e r b o y e s \" } , { \" c r e d i t _ i d \" : \" 5 3 9 c 4 a 4 c c 3 a 3 6 8 1 0 c 9 0 0 2 1 0 1 \" , \" d e p a r t m e n t \" : \" p r o d u c t i o n \" , \" g e n d e r \" : 1 , \" i d \" : 1 2 6 2 , \" j o b \" : \" c a s t i n g \" , \" n a m e \" : \" m a l i f i n n \" } , { \" c r e d i t _ i d \" : \" 5 5 4 4 e e 3 b 9 2 5 1 4 1 4 9 9 f 0 0 0 8 f c \" , \" d e p a r t m e n t \" : \" s o u n d \" , \" g e n d e r \" : 2 , \" i d \" : 1 7 2 9 , \" j o b \" : \" o r i g i n a l m u s i c c o m p o s e r \" , \" n a m e \" : \" j a m e s h o r n e r \" } , { \" c r e d i t _ i d \" : \" 5 2 f e 4 8 0 0 9 2 5 1 4 1 6 c 7 5 0 a c 9 c 3 \" , \" d e p a r t m e n t \" : \" d i r e c t i n g \" , \" g e n d e r \" : 2 , \" i d \" : 2 7 1 0 , \" j o b \" : \" d i r e c t o r \" , \" n a m e \" : \" j a m e s c a m e r o n \" } , { \" c r e d i t _ i d \" : \" 5 2 f e 4 8 0 0 9 2 5 1 4 1 6 c 7 5 0 a c 9 d 9 \" , \" d e p a r t m e n t \" : \" w r i t i n g \" , \" g e n d e r \" : 2 , \" i d \" : 2 7 1 0 , \" j o b \" : \" w r i t e r \" , \" n a m e \" : \" j a m e s c a m e r o n \" } , { \" c r e d i t _ i d \" : \" 5 2 f e 4 8 0 0 9 2 5 1 4 1 6 c 7 5 0 a c a 1 7 \" , \" d e p a r t m e n t \" : \" e d i t i n g \" , \" g e n d e r \" : 2 , \" i d \" : 2 7 1 0 , \" j o b \" : \" e d i t o r \" , \" n a m e \" : \" j a m e s c a m e r o n \" } , { \" c r e d i t _ i d \" : \" 5 2 f e 4 8 0 0 9 2 5 1 4 1 6 c 7 5 0 a c a 2 9 \" , \" d e p a r t m e n t \" : \" p r o d u c t i o n \" , \" g e n d e r \" : 2 , \" i d \" : 2 7 1 0 , \" j o b \" : \" p r o d u c e r \" , \" n a m e \" : \" j a m e s c a m e r o n \" } , { \" c r e d i t _ i d \" : \" 5 2 f e 4 8 0 0 9 2 5 1 4 1 6 c 7 5 0 a c a 3 f \" , \" d e p a r t m e n t \" : \" w r i t i n g \" , \" g e n d e r \" : 2 , \" i d \" : 2 7 1 0 , \" j o b \" : \" s c r e e n p l a y \" , \" n a m e \" : \" j a m e s c a m e r o n \" } , { \" c r e d i t _ i d \" : \" 5 3 9 c 4 9 8 7 c 3 a 3 6 8 1 0 b a 0 0 2 1 a 4 \" , \" d e p a r t m e n t \" : \" a r t \" , \" g e n d e r \" : 2 , \" i d \" : 7 2 3 6 , \" j o b \" : \" a r t d i r e c t i o n \" , \" n a m e \" : \" a n d r e w m e n z i e s \" } , { \" c r e d i t _ i d \" : \" 5 4 9 5 9 8 c 3 c 3 a 3 6 8 6 a e 9 0 0 4 3 8 3 \" , \" d e p a r t m e n t \" : \" v i s u a l e f f e c t s \" , \" g e n d e r \" : 0 , \" i d \" : 6 6 9 0 , \" j o b \" : \" v i s u a l e f f e c t s p r o d u c e r \" , \" n a m e \" : \" j i l l b r o o k s \" } , { \" c r e d i t _ i d \" : \" 5 2 f e 4 8 0 0 9 2 5 1 4 1 6 c 7 5 0 a c a 4 b \" , \" d e p a r t m e n t \" : \" p r o d u c t i o n \" , \" g e n d e r \" : 1 , \" i d \" : 6 3 4 7 , \" j o b \" : \" c a s t i n g \" , \" n a m e \" : \" m a r g e r y s i m k i n \" } , { \" c r e d i t _ i d \" : \" 5 7 0 b 6 f 4 1 9 2 5 1 4 1 7 d a 7 0 0 3 2 f e \" , \" d e p a r t m e n t \" : \" a r t \" , \" g e n d e r \" : 2 , \" i d \" : 6 8 7 8 , \" j o b \" : \" s u p e r v i s i n g a r t d i r e c t o r \" , \" n a m e \" : \" k e v i n i s h i o k a \" } , { \" c r e d i t _ i d \" : \" 5 4 9 5 a 0 f a c 3 a 3 6 8 6 a e 9 0 0 4 4 6 8 \" , \" d e p a r t m e n t \" : \" s o u n d \" , \" g e n d e r \" : 0 , \" i d \" : 6 8 8 3 , \" j o b \" : \" m u s i c e d i t o r \" , \" n a m e \" : \" d i c k b e r n s t e i n \" } , { \" c r e d i t _ i d \" : \" 5 4 9 5 9 7 0 6 c 3 a 3 6 8 6 a f 3 0 0 3 e 8 1 \" , \" d e p a r t m e n t \" : \" s o u n d \" , \" g e n d e r \" : 0 , \" i d \" : 8 1 5 9 , \" j o b \" : \" s o u n d e f f e c t s e d i t o r \" , \" n a m e \" : \" s h a n n o n m i l l s \" } , { \" c r e d i t _ i d \" : \" 5 4 4 9 1 d 5 8 c 3 a 3 6 8 0 f b 1 0 0 1 c c b \" , \" d e p a r t m e n t \" : \" s o u n d \" , \" g e n d e r \" : 0 , \" i d \" : 8 1 6 0 , \" j o b \" : \" f o l e y \" , \" n a m e \" : \" d e n n i e t h o r p e \" } , { \" c r e d i t _ i d \" : \" 5 4 4 9 1 d 6 c c 3 a 3 6 8 0 f a 5 0 0 1 b 2 c \" , \" d e p a r t m e n t \" : \" s o u n d \" , \" g e n d e r \" : 0 , \" i d \" : 8 1 6 3 , \" j o b \" : \" f o l e y \" , \" n a m e \" : \" j a n a v a n c e \" } , { \" c r e d i t _ i d \" : \" 5 2 f e 4 8 0 0 9 2 5 1 4 1 6 c 7 5 0 a c a 5 7 \" , \" d e p a r t m e n t \" : \" c o s t u m e & m a k e - u p \" , \" g e n d e r \" : 1 , \" i d \" : 8 5 2 7 , \" j o b \" : \" c o s t u m e d e s i g n \" , \" n a m e \" : \" d e b o r a h l y n n s c o t t \" } , { \" c r e d i t _ i d \" : \" 5 2 f e 4 8 0 0 9 2 5 1 4 1 6 c 7 5 0 a c a 2 f \" , \" d e p a r t m e n t \" : \" p r o d u c t i o n \" , \" g e n d e r \" : 2 , \" i d \" : 8 5 2 9 , \" j o b \" : \" p r o d u c e r \" , \" n a m e \" : \" j o n l a n d a u \" } , { \" c r e d i t _ i d \" : \" 5 3 9 c 4 9 3 7 c 3 a 3 6 8 1 0 b a 0 0 2 1 9 4 \" , \" d e p a r t m e n t \" : \" a r t \" , \" g e n d e r \" : 0 , \" i d \" : 9 6 1 8 , \" j o b \" : \" a r t d i r e c t i o n \" , \" n a m e \" : \" s e a n h a w o r t h \" } , { \" c r e d i t _ i d \" : \" 5 3 9 c 4 9 b 6 c 3 a 3 6 8 1 0 c 1 0 0 2 0 e 6 \" , \" d e p a r t m e n t \" : \" a r t \" , \" g e n d e r \" : 1 , \" i d \" : 1 2 6 5 3 , \" j o b \" : \" s e t d e c o r a t i o n \" , \" n a m e \" : \" k i m s i n c l a i r \" } , { \" c r e d i t _ i d \" : \" 5 7 0 b 6 f 2 f 9 2 5 1 4 1 3 a 0 e 0 0 0 2 0 d \" , \" d e p a r t m e n t \" : \" a r t \" , \" g e n d e r \" : 1 , \" i d \" : 1 2 6 5 3 , \" j o b \" : \" s u p e r v i s i n g a r t d i r e c t o r \" , \" n a m e \" : \" k i m s i n c l a i r \" } , { \" c r e d i t _ i d \" : \" 5 4 4 9 1 a 6 c 0 e 0 a 2 6 7 4 8 c 0 0 1 b 1 9 \" , \" d e p a r t m e n t \" : \" a r t \" , \" g e n d e r \" : 2 , \" i d \" : 1 4 3 5 0 , \" j o b \" : \" s e t d e s i g n e r \" , \" n a m e \" : \" r i c h a r d f . m a y s \" } , { \" c r e d i t _ i d \" : \" 5 6 9 2 8 c f 4 c 3 a 3 6 8 4 c f f 0 0 2 5 c 4 \" , \" d e p a r t m e n t \" : \" p r o d u c t i o n \" , \" g e n d e r \" : 1 , \" i d \" : 2 0 2 9 4 , \" j o b \" : \" e x e c u t i v e p r o d u c e r \" , \" n a m e \" : \" l a e t a k a l o g r i d i s \" } , { \" c r e d i t _ i d \" : \" 5 2 f e 4 8 0 0 9 2 5 1 4 1 6 c 7 5 0 a c a 5 1 \" , \" d e p a r t m e n t \" : \" c o s t u m e & m a k e - u p \" , \" g e n d e r \" : 0 , \" i d \" : 1 7 6 7 5 , \" j o b \" : \" c o s t u m e d e s i g n \" , \" n a m e \" : \" m a y e s c . r u b e o \" } , { \" c r e d i t _ i d \" : \" 5 2 f e 4 8 0 0 9 2 5 1 4 1 6 c 7 5 0 a c a 1 1 \" , \" d e p a r t m e n t \" : \" c a m e r a \" , \" g e n d e r \" : 2 , \" i d \" : 1 8 2 6 5 , \" j o b \" : \" d i r e c t o r o f p h o t o g r a p h y \" , \" n a m e \" : \" m a u r o f i o r e \" } , { \" c r e d i t _ i d \" : \" 5 4 4 9 1 9 4 d 0 e 0 a 2 6 7 4 8 f 0 0 1 b 3 9 \" , \" d e p a r t m e n t \" : \" a r t \" , \" g e n d e r \" : 0 , \" i d \" : 4 2 2 8 1 , \" j o b \" : \" s e t d e s i g n e r \" , \" n a m e \" : \" s c o t t h e r b e r t s o n \" } , { \" c r e d i t _ i d \" : \" 5 2 f e 4 8 0 0 9 2 5 1 4 1 6 c 7 5 0 a c a 0 5 \" , \" d e p a r t m e n t \" : \" c r e w \" , \" g e n d e r \" : 0 , \" i d \" : 4 2 2 8 8 , \" j o b \" : \" s t u n t s \" , \" n a m e \" : \" w o o d y s c h u l t z \" } , { \" c r e d i t _ i d \" : \" 5 5 9 2 a e f b 9 2 5 1 4 1 5 2 d e 0 0 1 0 f 5 \" , \" d e p a r t m e n t \" : \" c o s t u m e & m a k e - u p \" , \" g e n d e r \" : 0 , \" i d \" : 2 9 0 6 7 , \" j o b \" : \" m a k e u p a r t i s t \" , \" n a m e \" : \" l i n d a d e v e t t a \" } , { \" c r e d i t _ i d \" : \" 5 5 9 2 a f a 4 9 2 5 1 4 1 5 2 d e 0 0 1 1 2 c \" , \" d e p a r t m e n t \" : \" c o s t u m e & m a k e - u p \" , \" g e n d e r \" : 0 , \" i d \" : 2 9 0 6 7 , \" j o b \" : \" h a i r s t y l i s t \" , \" n a m e \" : \" l i n d a d e v e t t a \" } , { \" c r e d i t _ i d \" : \" 5 4 9 5 9 e d 5 9 2 5 1 4 1 3 0 f c 0 0 2 e 5 d \" , \" d e p a r t m e n t \" : \" c a m e r a \" , \" g e n d e r \" : 2 , \" i d \" : 3 3 3 0 2 , \" j o b \" : \" c a m e r a o p e r a t o r \" , \" n a m e \" : \" r i c h a r d b l u c k \" } , { \" c r e d i t _ i d \" : \" 5 3 9 c 4 8 9 1 c 3 a 3 6 8 1 0 b a 0 0 2 1 4 7 \" , \" d e p a r t m e n t \" : \" a r t \" , \" g e n d e r \" : 2 , \" i d \" : 3 3 3 0 3 , \" j o b \" : \" a r t d i r e c t i o n \" , \" n a m e \" : \" s i m o n b r i g h t \" } , { \" c r e d i t _ i d \" : \" 5 4 9 5 9 c 0 6 9 2 5 1 4 1 7 a 8 1 0 0 1 f 3 a \" , \" d e p a r t m e n t \" : \" v i s u a l e f f e c t s \" , \" g e n d e r \" : 0 , \" i d \" : 1 1 3 1 4 5 , \" j o b \" : \" v i s u a l e f f e c t s s u p e r v i s o r \" , \" n a m e \" : \" r i c h a r d m a r t i n \" } , { \" c r e d i t _ i d \" : \" 5 4 9 5 9 a 0 d c 3 a 3 6 8 0 f f 5 0 0 2 c 8 d \" , \" d e p a r t m e n t \" : \" c r e w \" , \" g e n d e r \" : 2 , \" i d \" : 5 8 1 8 8 , \" j o b \" : \" v i s u a l e f f e c t s e d i t o r \" , \" n a m e \" : \" s t e v e r . m o o r e \" } , { \" c r e d i t _ i d \" : \" 5 2 f e 4 8 0 0 9 2 5 1 4 1 6 c 7 5 0 a c a 1 d \" , \" d e p a r t m e n t \" : \" e d i t i n g \" , \" g e n d e r \" : 2 , \" i d \" : 5 8 8 7 1 , \" j o b \" : \" e d i t o r \" , \" n a m e \" : \" j o h n r e f o u a \" } , { \" c r e d i t _ i d \" : \" 5 4 4 9 1 a 4 d c 3 a 3 6 8 0 f c 3 0 0 1 8 c a \" , \" d e p a r t m e n t \" : \" a r t \" , \" g e n d e r \" : 0 , \" i d \" : 9 2 3 5 9 , \" j o b \" : \" s e t d e s i g n e r \" , \" n a m e \" : \" k a r l j . m a r t i n \" } , { \" c r e d i t _ i d \" : \" 5 2 f e 4 8 0 0 9 2 5 1 4 1 6 c 7 5 0 a c a 3 5 \" , \" d e p a r t m e n t \" : \" c a m e r a \" , \" g e n d e r \" : 1 , \" i d \" : 7 2 2 0 1 , \" j o b \" : \" d i r e c t o r o f p h o t o g r a p h y \" , \" n a m e \" : \" c h i l i n g l i n \" } , { \" c r e d i t _ i d \" : \" 5 2 f e 4 8 0 0 9 2 5 1 4 1 6 c 7 5 0 a c 9 f f \" , \" d e p a r t m e n t \" : \" c r e w \" , \" g e n d e r \" : 0 , \" i d \" : 8 9 7 1 4 , \" j o b \" : \" s t u n t s \" , \" n a m e \" : \" i l r a m c h o i \" } , { \" c r e d i t _ i d \" : \" 5 4 9 5 9 c 5 2 9 2 5 1 4 1 6 e 2 b 0 0 4 3 9 4 \" , \" d e p a r t m e n t \" : \" v i s u a l e f f e c t s \" , \" g e n d e r \" : 2 , \" i d \" : 9 3 2 1 4 , \" j o b \" : \" v i s u a l e f f e c t s s u p e r v i s o r \" , \" n a m e \" : \" s t e v e n q u a l e \" } , { \" c r e d i t _ i d \" : \" 5 4 4 9 1 e d f 0 e 0 a 2 6 7 4 8 9 0 0 1 c 3 7 \" , \" d e p a r t m e n t \" : \" c r e w \" , \" g e n d e r \" : 1 , \" i d \" : 1 2 2 6 0 7 , \" j o b \" : \" d i a l e c t c o a c h \" , \" n a m e \" : \" c a r l a m e y e r \" } , { \" c r e d i t _ i d \" : \" 5 3 9 c 4 8 5 b c 3 a 3 6 8 6 5 3 d 0 0 1 a 3 a \" , \" d e p a r t m e n t \" : \" a r t \" , \" g e n d e r \" : 2 , \" i d \" : 1 3 2 5 8 5 , \" j o b \" : \" a r t d i r e c t i o n \" , \" n a m e \" : \" n i c k b a s s e t t \" } , { \" c r e d i t _ i d \" : \" 5 3 9 c 4 9 0 3 c 3 a 3 6 8 6 5 3 d 0 0 1 a 7 4 \" , \" d e p a r t m e n t \" : \" a r t \" , \" g e n d e r \" : 0 , \" i d \" : 1 3 2 5 9 6 , \" j o b \" : \" a r t d i r e c t i o n \" , \" n a m e \" : \" j i l l c o r m a c k \" } , { \" c r e d i t _ i d \" : \" 5 3 9 c 4 9 6 7 c 3 a 3 6 8 6 5 3 d 0 0 1 a 9 4 \" , \" d e p a r t m e n t \" : \" a r t \" , \" g e n d e r \" : 0 , \" i d \" : 1 3 2 6 0 4 , \" j o b \" : \" a r t d i r e c t i o n \" , \" n a m e \" : \" a n d y m c l a r e n \" } , { \" c r e d i t _ i d \" : \" 5 2 f e 4 8 0 0 9 2 5 1 4 1 6 c 7 5 0 a c a 4 5 \" , \" d e p a r t m e n t \" : \" c r e w \" , \" g e n d e r \" : 0 , \" i d \" : 2 3 6 6 9 6 , \" j o b \" : \" m o t i o n c a p t u r e a r t i s t \" , \" n a m e \" : \" t e r r y n o t a r y \" } , { \" c r e d i t _ i d \" : \" 5 4 9 5 9 e 0 2 c 3 a 3 6 8 0 f c 6 0 0 2 7 d 2 \" , \" d e p a r t m e n t \" : \" c r e w \" , \" g e n d e r \" : 2 , \" i d \" : 9 5 6 1 9 8 , \" j o b \" : \" s t u n t c o o r d i n a t o r \" , \" n a m e \" : \" g a r r e t t w a r r e n \" } , { \" c r e d i t _ i d \" : \" 5 4 9 5 9 c a 3 c 3 a 3 6 8 6 a e 3 0 0 4 3 8 c \" , \" d e p a r t m e n t \" : \" v i s u a l e f f e c t s \" , \" g e n d e r \" : 2 , \" i d \" : 9 5 7 8 7 4 , \" j o b \" : \" v i s u a l e f f e c t s s u p e r v i s o r \" , \" n a m e \" : \" j o n a t h a n r o t h b a r t \" } , { \" c r e d i t _ i d \" : \" 5 7 0 b 6 f 5 1 9 2 5 1 4 1 2 c 7 4 0 0 1 b 2 f \" , \" d e p a r t m e n t \" : \" a r t \" , \" g e n d e r \" : 0 , \" i d \" : 9 5 7 8 8 9 , \" j o b \" : \" s u p e r v i s i n g a r t d i r e c t o r \" , \" n a m e \" : \" s t e f a n d e c h a n t \" } , { \" c r e d i t _ i d \" : \" 5 7 0 b 6 f 6 2 c 3 a 3 6 8 0 b 7 7 0 0 7 4 6 0 \" , \" d e p a r t m e n t \" : \" a r t \" , \" g e n d e r \" : 2 , \" i d \" : 9 5 9 5 5 5 , \" j o b \" : \" s u p e r v i s i n g a r t d i r e c t o r \" , \" n a m e \" : \" t o d d c h e r n i a w s k y \" } , { \" c r e d i t _ i d \" : \" 5 3 9 c 4 a 3 a c 3 a 3 6 8 1 0 d a 0 0 2 1 c c \" , \" d e p a r t m e n t \" : \" p r o d u c t i o n \" , \" g e n d e r \" : 0 , \" i d \" : 1 0 1 6 1 7 7 , \" j o b \" : \" c a s t i n g \" , \" n a m e \" : \" m i r a n d a r i v e r s \" } , { \" c r e d i t _ i d \" : \" 5 3 9 c 4 8 2 c c 3 a 3 6 8 1 0 c 1 0 0 2 0 6 2 \" , \" d e p a r t m e n t \" : \" a r t \" , \" g e n d e r \" : 0 , \" i d \" : 1 0 3 2 5 3 6 , \" j o b \" : \" p r o d u c t i o n d e s i g n \" , \" n a m e \" : \" r o b e r t s t r o m b e r g \" } , { \" c r e d i t _ i d \" : \" 5 3 9 c 4 b 6 5 c 3 a 3 6 8 1 0 c 9 0 0 2 1 2 5 \" , \" d e p a r t m e n t \" : \" c o s t u m e & m a k e - u p \" , \" g e n d e r \" : 2 , \" i d \" : 1 0 7 1 6 8 0 , \" j o b \" : \" c o s t u m e d e s i g n \" , \" n a m e \" : \" j o h n h a r d i n g \" } , { \" c r e d i t _ i d \" : \" 5 4 9 5 9 e 6 6 9 2 5 1 4 1 3 0 f c 0 0 2 e 4 e \" , \" d e p a r t m e n t \" : \" c a m e r a \" , \" g e n d e r \" : 0 , \" i d \" : 1 1 7 7 3 6 4 , \" j o b \" : \" s t e a d i c a m o p e r a t o r \" , \" n a m e \" : \" r o b e r t o d e a n g e l i s \" } , { \" c r e d i t _ i d \" : \" 5 3 9 c 4 9 f 1 c 3 a 3 6 8 6 5 3 d 0 0 1 a a c \" , \" d e p a r t m e n t \" : \" c o s t u m e & m a k e - u p \" , \" g e n d e r \" : 2 , \" i d \" : 1 2 0 2 8 5 0 , \" j o b \" : \" m a k e u p d e p a r t m e n t h e a d \" , \" n a m e \" : \" m i k e s m i t h s o n \" } , { \" c r e d i t _ i d \" : \" 5 4 9 5 9 9 9 e c 3 a 3 6 8 6 a e 1 0 0 4 6 0 c \" , \" d e p a r t m e n t \" : \" v i s u a l e f f e c t s \" , \" g e n d e r \" : 0 , \" i d \" : 1 2 0 4 6 6 8 , \" j o b \" : \" v i s u a l e f f e c t s p r o d u c e r \" , \" n a m e \" : \" a l a i n l a l a n n e \" } , { \" c r e d i t _ i d \" : \" 5 4 9 5 9 c d f c 3 a 3 6 8 1 1 5 3 0 0 2 7 2 9 \" , \" d e p a r t m e n t \" : \" v i s u a l e f f e c t s \" , \" g e n d e r \" : 0 , \" i d \" : 1 2 0 6 4 1 0 , \" j o b \" : \" v i s u a l e f f e c t s s u p e r v i s o r \" , \" n a m e \" : \" l u c a s s a l t o n \" } , { \" c r e d i t _ i d \" : \" 5 4 9 5 9 6 2 3 9 2 5 1 4 1 7 a 8 1 0 0 1 e a e \" , \" d e p a r t m e n t \" : \" c r e w \" , \" g e n d e r \" : 0 , \" i d \" : 1 2 3 4 2 6 6 , \" j o b \" : \" p o s t p r o d u c t i o n s u p e r v i s o r \" , \" n a m e \" : \" j a n a c e t a s h j i a n \" } , { \" c r e d i t _ i d \" : \" 5 4 9 5 9 c 8 5 9 2 5 1 4 1 6 e 1 e 0 0 3 e f e \" , \" d e p a r t m e n t \" : \" v i s u a l e f f e c t s \" , \" g e n d e r \" : 0 , \" i d \" : 1 2 7 1 9 3 2 , \" j o b \" : \" v i s u a l e f f e c t s s u p e r v i s o r \" , \" n a m e \" : \" s t e p h e n r o s e n b a u m \" } , { \" c r e d i t _ i d \" : \" 5 5 9 2 a f 2 8 c 3 a 3 6 8 7 7 5 a 0 0 1 0 5 f \" , \" d e p a r t m e n t \" : \" c o s t u m e & m a k e - u p \" , \" g e n d e r \" : 0 , \" i d \" : 1 3 1 0 0 6 4 , \" j o b \" : \" m a k e u p a r t i s t \" , \" n a m e \" : \" f r a n k i e k a r e n a \" } , { \" c r e d i t _ i d \" : \" 5 3 9 c 4 a d f c 3 a 3 6 8 1 0 e 3 0 0 2 0 3 b \" , \" d e p a r t m e n t \" : \" c o s t u m e & m a k e - u p \" , \" g e n d e r \" : 1 , \" i d \" : 1 3 1 9 8 4 4 , \" j o b \" : \" c o s t u m e s u p e r v i s o r \" , \" n a m e \" : \" l i s a l o v a a s \" } , { \" c r e d i t _ i d \" : \" 5 4 9 5 9 b 5 7 9 2 5 1 4 1 6 e 2 b 0 0 4 3 7 1 \" , \" d e p a r t m e n t \" : \" v i s u a l e f f e c t s \" , \" g e n d e r \" : 0 , \" i d \" : 1 3 2 7 0 2 8 , \" j o b \" : \" v i s u a l e f f e c t s s u p e r v i s o r \" , \" n a m e \" : \" j o n a t h a n f a w k n e r \" } , { \" c r e d i t _ i d \" : \" 5 3 9 c 4 8 a 7 c 3 a 3 6 8 1 0 b 5 0 0 1 f a 7 \" , \" d e p a r t m e n t \" : \" a r t \" , \" g e n d e r \" : 0 , \" i d \" : 1 3 3 0 5 6 1 , \" j o b \" : \" a r t d i r e c t i o n \" , \" n a m e \" : \" r o b e r t b a v i n \" } , { \" c r e d i t _ i d \" : \" 5 3 9 c 4 a 7 1 c 3 a 3 6 8 1 0 d a 0 0 2 1 e 0 \" , \" d e p a r t m e n t \" : \" c o s t u m e & m a k e - u p \" , \" g e n d e r \" : 0 , \" i d \" : 1 3 3 0 5 6 7 , \" j o b \" : \" c o s t u m e s u p e r v i s o r \" , \" n a m e \" : \" a n t h o n y a l m a r a z \" } , { \" c r e d i t _ i d \" : \" 5 3 9 c 4 a 8 a c 3 a 3 6 8 1 0 b a 0 0 2 1 e 4 \" , \" d e p a r t m e n t \" : \" c o s t u m e & m a k e - u p \" , \" g e n d e r \" : 0 , \" i d \" : 1 3 3 0 5 7 0 , \" j o b \" : \" c o s t u m e s u p e r v i s o r \" , \" n a m e \" : \" c a r o l y n m . f e n t o n \" } , { \" c r e d i t _ i d \" : \" 5 3 9 c 4 a b 6 c 3 a 3 6 8 1 0 d a 0 0 2 1 f 0 \" , \" d e p a r t m e n t \" : \" c o s t u m e & m a k e - u p \" , \" g e n d e r \" : 0 , \" i d \" : 1 3 3 0 5 7 4 , \" j o b \" : \" c o s t u m e s u p e r v i s o r \" , \" n a m e \" : \" b e t h k o e n i g s b e r g \" } , { \" c r e d i t _ i d \" : \" 5 4 4 9 1 a b 7 0 e 0 a 2 6 7 4 8 0 0 0 1 b a 2 \" , \" d e p a r t m e n t \" : \" a r t \" , \" g e n d e r \" : 0 , \" i d \" : 1 3 3 6 1 9 1 , \" j o b \" : \" s e t d e s i g n e r \" , \" n a m e \" : \" s a m p a g e \" } , { \" c r e d i t _ i d \" : \" 5 4 4 9 1 9 d 9 c 3 a 3 6 8 0 f c 3 0 0 1 8 b d \" , \" d e p a r t m e n t \" : \" a r t \" , \" g e n d e r \" : 0 , \" i d \" : 1 3 3 9 4 4 1 , \" j o b \" : \" s e t d e s i g n e r \" , \" n a m e \" : \" t e x k a d o n a g a \" } , { \" c r e d i t _ i d \" : \" 5 4 4 9 1 c f 5 0 e 0 a 2 6 7 4 8 3 0 0 1 b 0 c \" , \" d e p a r t m e n t \" : \" e d i t i n g \" , \" g e n d e r \" : 0 , \" i d \" : 1 3 5 2 4 2 2 , \" j o b \" : \" d i a l o g u e e d i t o r \" , \" n a m e \" : \" k i m f o s c a t o \" } , { \" c r e d i t _ i d \" : \" 5 4 4 9 1 9 f 4 0 e 0 a 2 6 7 4 8 c 0 0 1 b 0 9 \" , \" d e p a r t m e n t \" : \" a r t \" , \" g e n d e r \" : 0 , \" i d \" : 1 3 5 2 9 6 2 , \" j o b \" : \" s e t d e s i g n e r \" , \" n a m e \" : \" t a m m y s . l e e \" } , { \" c r e d i t _ i d \" : \" 5 4 9 5 a 1 1 5 c 3 a 3 6 8 0 f f 5 0 0 2 d 7 1 \" , \" d e p a r t m e n t \" : \" c r e w \" , \" g e n d e r \" : 0 , \" i d \" : 1 3 5 7 0 7 0 , \" j o b \" : \" t r a n s p o r t a t i o n c o o r d i n a t o r \" , \" n a m e \" : \" d e n n y c a i r a \" } , { \" c r e d i t _ i d \" : \" 5 4 9 5 a 1 2 f 9 2 5 1 4 1 3 0 f c 0 0 2 e 9 4 \" , \" d e p a r t m e n t \" : \" c r e w \" , \" g e n d e r \" : 0 , \" i d \" : 1 3 5 7 0 7 1 , \" j o b \" : \" t r a n s p o r t a t i o n c o o r d i n a t o r \" , \" n a m e \" : \" j a m e s w a i t k u s \" } , { \" c r e d i t _ i d \" : \" 5 4 9 5 9 7 6 f c 3 a 3 6 8 1 1 5 3 0 0 2 6 b 0 \" , \" d e p a r t m e n t \" : \" s o u n d \" , \" g e n d e r \" : 0 , \" i d \" : 1 3 6 0 1 0 3 , \" j o b \" : \" s u p e r v i s i n g s o u n d e d i t o r \" , \" n a m e \" : \" a d d i s o n t e a g u e \" } , { \" c r e d i t _ i d \" : \" 5 4 4 9 1 8 3 7 c 3 a 3 6 8 0 f b 1 0 0 1 c 5 a \" , \" d e p a r t m e n t \" : \" a r t \" , \" g e n d e r \" : 2 , \" i d \" : 1 3 7 6 8 8 7 , \" j o b \" : \" s e t d e s i g n e r \" , \" n a m e \" : \" c . s c o t t b a k e r \" } , { \" c r e d i t _ i d \" : \" 5 4 4 9 1 8 7 8 c 3 a 3 6 8 0 f b 4 0 0 1 c 9 d \" , \" d e p a r t m e n t \" : \" a r t \" , \" g e n d e r \" : 0 , \" i d \" : 1 3 7 6 8 8 8 , \" j o b \" : \" s e t d e s i g n e r \" , \" n a m e \" : \" l u k e c a s k a \" } , { \" c r e d i t _ i d \" : \" 5 4 4 9 1 8 d a c 3 a 3 6 8 0 f a 5 0 0 1 a e 0 \" , \" d e p a r t m e n t \" : \" a r t \" , \" g e n d e r \" : 0 , \" i d \" : 1 3 7 6 8 8 9 , \" j o b \" : \" s e t d e s i g n e r \" , \" n a m e \" : \" d a v i d c h o w \" } , { \" c r e d i t _ i d \" : \" 5 4 4 9 1 9 1 1 0 e 0 a 2 6 7 4 8 6 0 0 1 b 6 8 \" , \" d e p a r t m e n t \" : \" a r t \" , \" g e n d e r \" : 0 , \" i d \" : 1 3 7 6 8 9 0 , \" j o b \" : \" s e t d e s i g n e r \" , \" n a m e \" : \" j o n a t h a n d y e r \" } , { \" c r e d i t _ i d \" : \" 5 4 4 9 1 9 6 7 c 3 a 3 6 8 0 f a a 0 0 1 b 5 e \" , \" d e p a r t m e n t \" : \" a r t \" , \" g e n d e r \" : 0 , \" i d \" : 1 3 7 6 8 9 1 , \" j o b \" : \" s e t d e s i g n e r \" , \" n a m e \" : \" j o s e p h h i u r a \" } , { \" c r e d i t _ i d \" : \" 5 4 4 9 1 9 9 7 c 3 a 3 6 8 0 f b 1 0 0 1 c 8 a \" , \" d e p a r t m e n t \" : \" a r t \" , \" g e n d e r \" : 0 , \" i d \" : 1 3 7 6 8 9 2 , \" j o b \" : \" a r t d e p a r t m e n t c o o r d i n a t o r \" , \" n a m e \" : \" r e b e c c a j e l l i e \" } , { \" c r e d i t _ i d \" : \" 5 4 4 9 1 9 b a 0 e 0 a 2 6 7 4 8 f 0 0 1 b 4 2 \" , \" d e p a r t m e n t \" : \" a r t \" , \" g e n d e r \" : 0 , \" i d \" : 1 3 7 6 8 9 3 , \" j o b \" : \" s e t d e s i g n e r \" , \" n a m e \" : \" r o b e r t a n d r e w j o h n s o n \" } , { \" c r e d i t _ i d \" : \" 5 4 4 9 1 b 1 d c 3 a 3 6 8 0 f a a 0 0 1 b 8 c \" , \" d e p a r t m e n t \" : \" a r t \" , \" g e n d e r \" : 0 , \" i d \" : 1 3 7 6 8 9 5 , \" j o b \" : \" a s s i s t a n t a r t d i r e c t o r \" , \" n a m e \" : \" m i k e s t a s s i \" } , { \" c r e d i t _ i d \" : \" 5 4 4 9 1 b 7 9 c 3 a 3 6 8 0 f b b 0 0 1 8 2 6 \" , \" d e p a r t m e n t \" : \" a r t \" , \" g e n d e r \" : 0 , \" i d \" : 1 3 7 6 8 9 7 , \" j o b \" : \" c o n s t r u c t i o n c o o r d i n a t o r \" , \" n a m e \" : \" j o h n v i l l a r i n o \" } , { \" c r e d i t _ i d \" : \" 5 4 4 9 1 b a e c 3 a 3 6 8 0 f b 4 0 0 1 c e 6 \" , \" d e p a r t m e n t \" : \" a r t \" , \" g e n d e r \" : 2 , \" i d \" : 1 3 7 6 8 9 8 , \" j o b \" : \" a s s i s t a n t a r t d i r e c t o r \" , \" n a m e \" : \" j e f f r e y w i s n i e w s k i \" } , { \" c r e d i t _ i d \" : \" 5 4 4 9 1 d 2 f c 3 a 3 6 8 0 f b 4 0 0 1 d 0 7 \" , \" d e p a r t m e n t \" : \" e d i t i n g \" , \" g e n d e r \" : 0 , \" i d \" : 1 3 7 6 8 9 9 , \" j o b \" : \" d i a l o g u e e d i t o r \" , \" n a m e \" : \" c h e r y l n a r d i \" } , { \" c r e d i t _ i d \" : \" 5 4 4 9 1 d 8 6 c 3 a 3 6 8 0 f a 5 0 0 1 b 2 f \" , \" d e p a r t m e n t \" : \" e d i t i n g \" , \" g e n d e r \" : 0 , \" i d \" : 1 3 7 6 9 0 1 , \" j o b \" : \" d i a l o g u e e d i t o r \" , \" n a m e \" : \" m a r s h a l l w i n n \" } , { \" c r e d i t _ i d \" : \" 5 4 4 9 1 d 9 d c 3 a 3 6 8 0 f a a 0 0 1 b b 0 \" , \" d e p a r t m e n t \" : \" s o u n d \" , \" g e n d e r \" : 0 , \" i d \" : 1 3 7 6 9 0 2 , \" j o b \" : \" s u p e r v i s i n g s o u n d e d i t o r \" , \" n a m e \" : \" g w e n d o l y n y a t e s w h i t t l e \" } , { \" c r e d i t _ i d \" : \" 5 4 4 9 1 d c 1 0 e 0 a 2 6 7 4 8 6 0 0 1 b c e \" , \" d e p a r t m e n t \" : \" s o u n d \" , \" g e n d e r \" : 0 , \" i d \" : 1 3 7 6 9 0 3 , \" j o b \" : \" s o u n d r e - r e c o r d i n g m i x e r \" , \" n a m e \" : \" w i l l i a m s t e i n \" } , { \" c r e d i t _ i d \" : \" 5 4 4 9 1 f 5 0 0 e 0 a 2 6 7 4 7 c 0 0 1 c 0 7 \" , \" d e p a r t m e n t \" : \" c r e w \" , \" g e n d e r \" : 0 , \" i d \" : 1 3 7 6 9 0 9 , \" j o b \" : \" c h o r e o g r a p h e r \" , \" n a m e \" : \" l u l a w a s h i n g t o n \" } , { \" c r e d i t _ i d \" : \" 5 4 9 5 9 9 2 3 9 2 5 1 4 1 2 c 4 e 0 0 2 a 2 e \" , \" d e p a r t m e n t \" : \" v i s u a l e f f e c t s \" , \" g e n d e r \" : 0 , \" i d \" : 1 3 9 1 6 9 2 , \" j o b \" : \" v i s u a l e f f e c t s p r o d u c e r \" , \" n a m e \" : \" c h r i s d e l c o n t e \" } , { \" c r e d i t _ i d \" : \" 5 4 9 5 9 d 5 4 c 3 a 3 6 8 3 1 b 8 0 0 1 d 9 a \" , \" d e p a r t m e n t \" : \" v i s u a l e f f e c t s \" , \" g e n d e r \" : 2 , \" i d \" : 1 3 9 1 6 9 5 , \" j o b \" : \" v i s u a l e f f e c t s s u p e r v i s o r \" , \" n a m e \" : \" r . c h r i s t o p h e r w h i t e \" } , { \" c r e d i t _ i d \" : \" 5 4 9 5 9 b d f 9 2 5 1 4 1 2 c 4 e 0 0 2 a 6 6 \" , \" d e p a r t m e n t \" : \" v i s u a l e f f e c t s \" , \" g e n d e r \" : 0 , \" i d \" : 1 3 9 4 0 7 0 , \" j o b \" : \" v i s u a l e f f e c t s s u p e r v i s o r \" , \" n a m e \" : \" d a n l e m m o n \" } , { \" c r e d i t _ i d \" : \" 5 4 9 5 9 7 1 d 9 2 5 1 4 1 3 2 e d 0 0 2 9 2 2 \" , \" d e p a r t m e n t \" : \" s o u n d \" , \" g e n d e r \" : 0 , \" i d \" : 1 3 9 4 1 2 9 , \" j o b \" : \" s o u n d e f f e c t s e d i t o r \" , \" n a m e \" : \" t i m n i e l s e n \" } , { \" c r e d i t _ i d \" : \" 5 5 9 2 b 2 5 7 9 2 5 1 4 1 5 2 c c 0 0 1 1 a a \" , \" d e p a r t m e n t \" : \" c r e w \" , \" g e n d e r \" : 0 , \" i d \" : 1 3 9 4 2 8 6 , \" j o b \" : \" c g s u p e r v i s o r \" , \" n a m e \" : \" m i c h a e l m u l h o l l a n d \" } , { \" c r e d i t _ i d \" : \" 5 4 9 5 9 a 3 2 9 2 5 1 4 1 6 e 2 b 0 0 4 3 5 5 \" , \" d e p a r t m e n t \" : \" c r e w \" , \" g e n d e r \" : 0 , \" i d \" : 1 3 9 4 7 5 0 , \" j o b \" : \" v i s u a l e f f e c t s e d i t o r \" , \" n a m e \" : \" t h o m a s n i t t m a n n \" } , { \" c r e d i t _ i d \" : \" 5 4 9 5 9 d 6 d c 3 a 3 6 8 6 a e 9 0 0 4 4 0 1 \" , \" d e p a r t m e n t \" : \" v i s u a l e f f e c t s \" , \" g e n d e r \" : 0 , \" i d \" : 1 3 9 4 7 5 5 , \" j o b \" : \" v i s u a l e f f e c t s s u p e r v i s o r \" , \" n a m e \" : \" e d s o n w i l l i a m s \" } , { \" c r e d i t _ i d \" : \" 5 4 9 5 a 0 8 f c 3 a 3 6 8 6 a e 3 0 0 4 4 1 c \" , \" d e p a r t m e n t \" : \" e d i t i n g \" , \" g e n d e r \" : 0 , \" i d \" : 1 3 9 4 9 5 3 , \" j o b \" : \" d i g i t a l i n t e r m e d i a t e \" , \" n a m e \" : \" c h r i s t i n e c a r r \" } , { \" c r e d i t _ i d \" : \" 5 5 4 0 2 d 6 5 9 2 5 1 4 1 3 d 6 d 0 0 0 2 4 9 \" , \" d e p a r t m e n t \" : \" v i s u a l e f f e c t s \" , \" g e n d e r \" : 0 , \" i d \" : 1 3 9 5 2 6 9 , \" j o b \" : \" v i s u a l e f f e c t s s u p e r v i s o r \" , \" n a m e \" : \" j o h n b r u n o \" } , { \" c r e d i t _ i d \" : \" 5 4 9 5 9 e 7 b 9 2 5 1 4 1 6 e 1 e 0 0 3 f 3 e \" , \" d e p a r t m e n t \" : \" c a m e r a \" , \" g e n d e r \" : 0 , \" i d \" : 1 3 9 8 9 7 0 , \" j o b \" : \" s t e a d i c a m o p e r a t o r \" , \" n a m e \" : \" d a v i d e m m e r i c h s \" } , { \" c r e d i t _ i d \" : \" 5 4 9 5 9 7 3 4 c 3 a 3 6 8 6 a e 1 0 0 4 5 e 0 \" , \" d e p a r t m e n t \" : \" s o u n d \" , \" g e n d e r \" : 0 , \" i d \" : 1 4 0 0 9 0 6 , \" j o b \" : \" s o u n d e f f e c t s e d i t o r \" , \" n a m e \" : \" c h r i s t o p h e r s c a r a b o s i o \" } , { \" c r e d i t _ i d \" : \" 5 4 9 5 9 5 d d 9 2 5 1 4 1 3 0 f c 0 0 2 d 7 9 \" , \" d e p a r t m e n t \" : \" p r o d u c t i o n \" , \" g e n d e r \" : 0 , \" i d \" : 1 4 0 1 7 8 4 , \" j o b \" : \" p r o d u c t i o n s u p e r v i s o r \" , \" n a m e \" : \" j e n n i f e r t e v e s \" } , { \" c r e d i t _ i d \" : \" 5 4 9 5 9 6 0 0 9 2 5 1 4 1 3 a f 7 0 0 2 8 c c \" , \" d e p a r t m e n t \" : \" p r o d u c t i o n \" , \" g e n d e r \" : 0 , \" i d \" : 1 4 0 1 7 8 5 , \" j o b \" : \" p r o d u c t i o n m a n a g e r \" , \" n a m e \" : \" b r i g i t t e y o r k e \" } , { \" c r e d i t _ i d \" : \" 5 4 9 5 9 6 e 8 9 2 5 1 4 1 3 0 f c 0 0 2 d 9 9 \" , \" d e p a r t m e n t \" : \" s o u n d \" , \" g e n d e r \" : 0 , \" i d \" : 1 4 0 1 7 8 6 , \" j o b \" : \" s o u n d e f f e c t s e d i t o r \" , \" n a m e \" : \" k e n f i s c h e r \" } , { \" c r e d i t _ i d \" : \" 5 4 9 5 9 8 2 2 9 2 5 1 4 1 2 c 4 e 0 0 2 a 1 c \" , \" d e p a r t m e n t \" : \" c r e w \" , \" g e n d e r \" : 0 , \" i d \" : 1 4 0 1 7 8 7 , \" j o b \" : \" s p e c i a l e f f e c t s c o o r d i n a t o r \" , \" n a m e \" : \" i a i n h u t t o n \" } , { \" c r e d i t _ i d \" : \" 5 4 9 5 9 8 3 4 9 2 5 1 4 1 6 e 2 b 0 0 4 3 2 b \" , \" d e p a r t m e n t \" : \" c r e w \" , \" g e n d e r \" : 0 , \" i d \" : 1 4 0 1 7 8 8 , \" j o b \" : \" s p e c i a l e f f e c t s c o o r d i n a t o r \" , \" n a m e \" : \" s t e v e i n g r a m \" } , { \" c r e d i t _ i d \" : \" 5 4 9 5 9 9 0 5 c 3 a 3 6 8 6 a e 3 0 0 4 3 2 4 \" , \" d e p a r t m e n t \" : \" v i s u a l e f f e c t s \" , \" g e n d e r \" : 0 , \" i d \" : 1 4 0 1 7 8 9 , \" j o b \" : \" v i s u a l e f f e c t s p r o d u c e r \" , \" n a m e \" : \" j o y c e c o x \" } , { \" c r e d i t _ i d \" : \" 5 4 9 5 9 9 4 b 9 2 5 1 4 1 3 2 e d 0 0 2 9 5 1 \" , \" d e p a r t m e n t \" : \" v i s u a l e f f e c t s \" , \" g e n d e r \" : 0 , \" i d \" : 1 4 0 1 7 9 0 , \" j o b \" : \" v i s u a l e f f e c t s p r o d u c e r \" , \" n a m e \" : \" j e n n y f o s t e r \" } , { \" c r e d i t _ i d \" : \" 5 4 9 5 9 9 c b c 3 a 3 6 8 6 a e 1 0 0 4 6 1 3 \" , \" d e p a r t m e n t \" : \" c r e w \" , \" g e n d e r \" : 0 , \" i d \" : 1 4 0 1 7 9 1 , \" j o b \" : \" v i s u a l e f f e c t s e d i t o r \" , \" n a m e \" : \" c h r i s t o p h e r m a r i n o \" } , { \" c r e d i t _ i d \" : \" 5 4 9 5 9 9 f 2 c 3 a 3 6 8 6 a e 1 0 0 4 6 1 e \" , \" d e p a r t m e n t \" : \" c r e w \" , \" g e n d e r \" : 0 , \" i d \" : 1 4 0 1 7 9 2 , \" j o b \" : \" v i s u a l e f f e c t s e d i t o r \" , \" n a m e \" : \" j i m m i l t o n \" } , { \" c r e d i t _ i d \" : \" 5 4 9 5 9 a 5 1 c 3 a 3 6 8 6 a f 3 0 0 3 e b 5 \" , \" d e p a r t m e n t \" : \" v i s u a l e f f e c t s \" , \" g e n d e r \" : 0 , \" i d \" : 1 4 0 1 7 9 3 , \" j o b \" : \" v i s u a l e f f e c t s p r o d u c e r \" , \" n a m e \" : \" c y n d i o c h s \" } , { \" c r e d i t _ i d \" : \" 5 4 9 5 9 a 7 c c 3 a 3 6 8 1 1 5 3 0 0 2 6 f 4 \" , \" d e p a r t m e n t \" : \" c r e w \" , \" g e n d e r \" : 0 , \" i d \" : 1 4 0 1 7 9 4 , \" j o b \" : \" v i s u a l e f f e c t s e d i t o r \" , \" n a m e \" : \" l u c a s p u t n a m \" } , { \" c r e d i t _ i d \" : \" 5 4 9 5 9 b 9 1 c 3 a 3 6 8 0 f f 5 0 0 2 c b 4 \" , \" d e p a r t m e n t \" : \" v i s u a l e f f e c t s \" , \" g e n d e r \" : 0 , \" i d \" : 1 4 0 1 7 9 5 , \" j o b \" : \" v i s u a l e f f e c t s s u p e r v i s o r \" , \" n a m e \" : \" a n t h o n y \\' m a x \\' i v i n s \" } , { \" c r e d i t _ i d \" : \" 5 4 9 5 9 b b 6 9 2 5 1 4 1 2 c 4 e 0 0 2 a 5 f \" , \" d e p a r t m e n t \" : \" v i s u a l e f f e c t s \" , \" g e n d e r \" : 0 , \" i d \" : 1 4 0 1 7 9 6 , \" j o b \" : \" v i s u a l e f f e c t s s u p e r v i s o r \" , \" n a m e \" : \" j o h n k n o l l \" } , { \" c r e d i t _ i d \" : \" 5 4 9 5 9 c b b c 3 a 3 6 8 6 a e 3 0 0 4 3 9 1 \" , \" d e p a r t m e n t \" : \" v i s u a l e f f e c t s \" , \" g e n d e r \" : 2 , \" i d \" : 1 4 0 1 7 9 9 , \" j o b \" : \" v i s u a l e f f e c t s s u p e r v i s o r \" , \" n a m e \" : \" e r i c s a i n d o n \" } , { \" c r e d i t _ i d \" : \" 5 4 9 5 9 d 0 6 c 3 a 3 6 8 6 a e 9 0 0 4 3 f 6 \" , \" d e p a r t m e n t \" : \" v i s u a l e f f e c t s \" , \" g e n d e r \" : 0 , \" i d \" : 1 4 0 1 8 0 0 , \" j o b \" : \" v i s u a l e f f e c t s s u p e r v i s o r \" , \" n a m e \" : \" w a y n e s t a b l e s \" } , { \" c r e d i t _ i d \" : \" 5 4 9 5 9 d 2 5 9 2 5 1 4 1 6 e 1 e 0 0 3 f 1 1 \" , \" d e p a r t m e n t \" : \" v i s u a l e f f e c t s \" , \" g e n d e r \" : 0 , \" i d \" : 1 4 0 1 8 0 1 , \" j o b \" : \" v i s u a l e f f e c t s s u p e r v i s o r \" , \" n a m e \" : \" d a v i d s t i n n e t t \" } , { \" c r e d i t _ i d \" : \" 5 4 9 5 9 d b 4 9 2 5 1 4 1 3 a f 7 0 0 2 9 7 5 \" , \" d e p a r t m e n t \" : \" v i s u a l e f f e c t s \" , \" g e n d e r \" : 0 , \" i d \" : 1 4 0 1 8 0 3 , \" j o b \" : \" v i s u a l e f f e c t s s u p e r v i s o r \" , \" n a m e \" : \" g u y w i l l i a m s \" } , { \" c r e d i t _ i d \" : \" 5 4 9 5 9 d e 4 c 3 a 3 6 8 1 1 5 3 0 0 2 7 5 0 \" , \" d e p a r t m e n t \" : \" c r e w \" , \" g e n d e r \" : 0 , \" i d \" : 1 4 0 1 8 0 4 , \" j o b \" : \" s t u n t c o o r d i n a t o r \" , \" n a m e \" : \" s t u a r t t h o r p \" } , { \" c r e d i t _ i d \" : \" 5 4 9 5 9 e f 2 c 3 a 3 6 8 0 f c 6 0 0 2 7 f 2 \" , \" d e p a r t m e n t \" : \" l i g h t i n g \" , \" g e n d e r \" : 0 , \" i d \" : 1 4 0 1 8 0 5 , \" j o b \" : \" b e s t b o y e l e c t r i c \" , \" n a m e \" : \" g i l e s c o b u r n \" } , { \" c r e d i t _ i d \" : \" 5 4 9 5 9 f 0 7 c 3 a 3 6 8 0 f c 6 0 0 2 7 f 9 \" , \" d e p a r t m e n t \" : \" c a m e r a \" , \" g e n d e r \" : 2 , \" i d \" : 1 4 0 1 8 0 6 , \" j o b \" : \" s t i l l p h o t o g r a p h e r \" , \" n a m e \" : \" m a r k f e l l m a n \" } , { \" c r e d i t _ i d \" : \" 5 4 9 5 9 f 4 7 c 3 a 3 6 8 1 1 5 3 0 0 2 7 7 4 \" , \" d e p a r t m e n t \" : \" l i g h t i n g \" , \" g e n d e r \" : 0 , \" i d \" : 1 4 0 1 8 0 7 , \" j o b \" : \" l i g h t i n g t e c h n i c i a n \" , \" n a m e \" : \" s c o t t s p r a g u e \" } , { \" c r e d i t _ i d \" : \" 5 4 9 5 9 f 8 c c 3 a 3 6 8 3 1 b 8 0 0 1 d f 2 \" , \" d e p a r t m e n t \" : \" v i s u a l e f f e c t s \" , \" g e n d e r \" : 0 , \" i d \" : 1 4 0 1 8 0 8 , \" j o b \" : \" a n i m a t i o n d i r e c t o r \" , \" n a m e \" : \" j e r e m y h o l l o b o n \" } , { \" c r e d i t _ i d \" : \" 5 4 9 5 9 f a 0 c 3 a 3 6 8 3 1 b 8 0 0 1 d f b \" , \" d e p a r t m e n t \" : \" v i s u a l e f f e c t s \" , \" g e n d e r \" : 0 , \" i d \" : 1 4 0 1 8 0 9 , \" j o b \" : \" a n i m a t i o n d i r e c t o r \" , \" n a m e \" : \" o r l a n d o m e u n i e r \" } , { \" c r e d i t _ i d \" : \" 5 4 9 5 9 f b 6 c 3 a 3 6 8 6 a f 3 0 0 3 f 5 4 \" , \" d e p a r t m e n t \" : \" v i s u a l e f f e c t s \" , \" g e n d e r \" : 0 , \" i d \" : 1 4 0 1 8 1 0 , \" j o b \" : \" a n i m a t i o n d i r e c t o r \" , \" n a m e \" : \" t a i s u k e t a n i m u r a \" } , { \" c r e d i t _ i d \" : \" 5 4 9 5 9 f d 2 c 3 a 3 6 8 3 1 b 8 0 0 1 e 0 2 \" , \" d e p a r t m e n t \" : \" c o s t u m e & m a k e - u p \" , \" g e n d e r \" : 0 , \" i d \" : 1 4 0 1 8 1 2 , \" j o b \" : \" s e t c o s t u m e r \" , \" n a m e \" : \" l i l i a m i s h e l a c e v e d o \" } , { \" c r e d i t _ i d \" : \" 5 4 9 5 9 f f 9 c 3 a 3 6 8 6 a e 3 0 0 4 4 0 c \" , \" d e p a r t m e n t \" : \" c o s t u m e & m a k e - u p \" , \" g e n d e r \" : 0 , \" i d \" : 1 4 0 1 8 1 4 , \" j o b \" : \" s e t c o s t u m e r \" , \" n a m e \" : \" a l e j a n d r o m . h e r n a n d e z \" } , { \" c r e d i t _ i d \" : \" 5 4 9 5 a 0 d d c 3 a 3 6 8 6 a e 1 0 0 4 6 f e \" , \" d e p a r t m e n t \" : \" e d i t i n g \" , \" g e n d e r \" : 0 , \" i d \" : 1 4 0 1 8 1 5 , \" j o b \" : \" d i g i t a l i n t e r m e d i a t e \" , \" n a m e \" : \" m a r v i n h a l l \" } , { \" c r e d i t _ i d \" : \" 5 4 9 5 a 1 f 7 c 3 a 3 6 8 6 a e 3 0 0 4 4 4 3 \" , \" d e p a r t m e n t \" : \" p r o d u c t i o n \" , \" g e n d e r \" : 0 , \" i d \" : 1 4 0 1 8 1 6 , \" j o b \" : \" p u b l i c i s t \" , \" n a m e \" : \" j u d y a l l e y \" } , { \" c r e d i t _ i d \" : \" 5 5 9 2 b 2 9 f c 3 a 3 6 8 6 9 d 1 0 0 0 0 2 f \" , \" d e p a r t m e n t \" : \" c r e w \" , \" g e n d e r \" : 0 , \" i d \" : 1 4 1 8 3 8 1 , \" j o b \" : \" c g s u p e r v i s o r \" , \" n a m e \" : \" m i k e p e r r y \" } , { \" c r e d i t _ i d \" : \" 5 5 9 2 b 2 3 a 9 2 5 1 4 1 5 d f 8 0 0 1 0 8 1 \" , \" d e p a r t m e n t \" : \" c r e w \" , \" g e n d e r \" : 0 , \" i d \" : 1 4 2 6 8 5 4 , \" j o b \" : \" c g s u p e r v i s o r \" , \" n a m e \" : \" a n d r e w m o r l e y \" } , { \" c r e d i t _ i d \" : \" 5 5 4 9 1 e 1 1 9 2 5 1 4 1 0 4 c 4 0 0 0 2 d 8 \" , \" d e p a r t m e n t \" : \" a r t \" , \" g e n d e r \" : 0 , \" i d \" : 1 4 3 8 9 0 1 , \" j o b \" : \" c o n c e p t u a l d e s i g n \" , \" n a m e \" : \" s e t h e n g s t r o m \" } , { \" c r e d i t _ i d \" : \" 5 5 2 5 d 5 8 0 9 2 5 1 4 1 7 2 7 6 0 0 2 b 0 6 \" , \" d e p a r t m e n t \" : \" c r e w \" , \" g e n d e r \" : 0 , \" i d \" : 1 4 4 7 3 6 2 , \" j o b \" : \" v i s u a l e f f e c t s a r t d i r e c t o r \" , \" n a m e \" : \" e r i c o l i v e r \" } , { \" c r e d i t _ i d \" : \" 5 5 4 4 2 7 c a 9 2 5 1 4 1 5 8 6 5 0 0 3 1 2 a \" , \" d e p a r t m e n t \" : \" v i s u a l e f f e c t s \" , \" g e n d e r \" : 0 , \" i d \" : 1 4 4 7 5 0 3 , \" j o b \" : \" m o d e l i n g \" , \" n a m e \" : \" m a t s u n e s u z u k i \" } , { \" c r e d i t _ i d \" : \" 5 5 1 9 0 6 8 8 9 2 5 1 4 1 5 a a b 0 0 1 c 8 8 \" , \" d e p a r t m e n t \" : \" a r t \" , \" g e n d e r \" : 0 , \" i d \" : 1 4 4 7 5 2 4 , \" j o b \" : \" a r t d e p a r t m e n t m a n a g e r \" , \" n a m e \" : \" p a u l t o b i n \" } , { \" c r e d i t _ i d \" : \" 5 5 9 2 a f 8 4 9 2 5 1 4 1 5 2 c c 0 0 1 0 d e \" , \" d e p a r t m e n t \" : \" c o s t u m e & m a k e - u p \" , \" g e n d e r \" : 0 , \" i d \" : 1 4 5 2 6 4 3 , \" j o b \" : \" h a i r s t y l i s t \" , \" n a m e \" : \" r o x a n e g r i f f i n \" } , { \" c r e d i t _ i d \" : \" 5 5 3 d 3 c 1 0 9 2 5 1 4 1 5 8 5 2 0 0 1 3 1 8 \" , \" d e p a r t m e n t \" : \" l i g h t i n g \" , \" g e n d e r \" : 0 , \" i d \" : 1 4 5 3 9 3 8 , \" j o b \" : \" l i g h t i n g a r t i s t \" , \" n a m e \" : \" a r u n r a m - m o h a n \" } , { \" c r e d i t _ i d \" : \" 5 5 9 2 a f 4 6 9 2 5 1 4 1 5 2 d 5 0 0 1 3 5 5 \" , \" d e p a r t m e n t \" : \" c o s t u m e & m a k e - u p \" , \" g e n d e r \" : 0 , \" i d \" : 1 4 5 7 3 0 5 , \" j o b \" : \" m a k e u p a r t i s t \" , \" n a m e \" : \" g e o r g i a l o c k h a r t - a d a m s \" } , { \" c r e d i t _ i d \" : \" 5 5 9 2 b 2 e a c 3 a 3 6 8 7 7 4 7 0 0 1 2 a 5 \" , \" d e p a r t m e n t \" : \" c r e w \" , \" g e n d e r \" : 0 , \" i d \" : 1 4 6 6 0 3 5 , \" j o b \" : \" c g s u p e r v i s o r \" , \" n a m e \" : \" t h r a i n s h a d b o l t \" } , { \" c r e d i t _ i d \" : \" 5 5 9 2 b 0 3 2 c 3 a 3 6 8 7 7 4 5 0 0 1 5 f 1 \" , \" d e p a r t m e n t \" : \" c r e w \" , \" g e n d e r \" : 0 , \" i d \" : 1 4 8 3 2 2 0 , \" j o b \" : \" c g s u p e r v i s o r \" , \" n a m e \" : \" b r a d a l e x a n d e r \" } , { \" c r e d i t _ i d \" : \" 5 5 9 2 b 0 5 5 9 2 5 1 4 1 5 2 d 8 0 0 1 2 f 6 \" , \" d e p a r t m e n t \" : \" c r e w \" , \" g e n d e r \" : 0 , \" i d \" : 1 4 8 3 2 2 1 , \" j o b \" : \" c g s u p e r v i s o r \" , \" n a m e \" : \" s h a d i a l m a s s i z a d e h \" } , { \" c r e d i t _ i d \" : \" 5 5 9 2 b 0 9 0 c 3 a 3 6 8 7 7 5 7 0 0 1 0 b 5 \" , \" d e p a r t m e n t \" : \" c r e w \" , \" g e n d e r \" : 0 , \" i d \" : 1 4 8 3 2 2 2 , \" j o b \" : \" c g s u p e r v i s o r \" , \" n a m e \" : \" s i m o n c l u t t e r b u c k \" } , { \" c r e d i t _ i d \" : \" 5 5 9 2 b 0 d b c 3 a 3 6 8 7 7 4 b 0 0 1 1 2 c \" , \" d e p a r t m e n t \" : \" c r e w \" , \" g e n d e r \" : 0 , \" i d \" : 1 4 8 3 2 2 3 , \" j o b \" : \" c g s u p e r v i s o r \" , \" n a m e \" : \" g r a e m e d e m m o c k s \" } , { \" c r e d i t _ i d \" : \" 5 5 9 2 b 0 f e 9 2 5 1 4 1 5 2 d b 0 0 1 0 c 1 \" , \" d e p a r t m e n t \" : \" c r e w \" , \" g e n d e r \" : 0 , \" i d \" : 1 4 8 3 2 2 4 , \" j o b \" : \" c g s u p e r v i s o r \" , \" n a m e \" : \" a d r i a n f e r n a n d e s \" } , { \" c r e d i t _ i d \" : \" 5 5 9 2 b 1 1 f 9 2 5 1 4 1 5 d f 8 0 0 1 0 5 9 \" , \" d e p a r t m e n t \" : \" c r e w \" , \" g e n d e r \" : 0 , \" i d \" : 1 4 8 3 2 2 5 , \" j o b \" : \" c g s u p e r v i s o r \" , \" n a m e \" : \" m i t c h g a t e s \" } , { \" c r e d i t _ i d \" : \" 5 5 9 2 b 1 5 d c 3 a 3 6 8 7 7 4 5 0 0 1 6 4 5 \" , \" d e p a r t m e n t \" : \" c r e w \" , \" g e n d e r \" : 0 , \" i d \" : 1 4 8 3 2 2 6 , \" j o b \" : \" c g s u p e r v i s o r \" , \" n a m e \" : \" j e r r y k u n g \" } , { \" c r e d i t _ i d \" : \" 5 5 9 2 b 1 8 e 9 2 5 1 4 1 6 4 5 a 0 0 0 4 a e \" , \" d e p a r t m e n t \" : \" c r e w \" , \" g e n d e r \" : 0 , \" i d \" : 1 4 8 3 2 2 7 , \" j o b \" : \" c g s u p e r v i s o r \" , \" n a m e \" : \" a n d y l o m a s \" } , { \" c r e d i t _ i d \" : \" 5 5 9 2 b 1 b f c 3 a 3 6 8 7 7 5 d 0 0 1 0 e 7 \" , \" d e p a r t m e n t \" : \" c r e w \" , \" g e n d e r \" : 0 , \" i d \" : 1 4 8 3 2 2 8 , \" j o b \" : \" c g s u p e r v i s o r \" , \" n a m e \" : \" s e b a s t i a n m a r i n o \" } , { \" c r e d i t _ i d \" : \" 5 5 9 2 b 2 0 4 9 2 5 1 4 1 5 d f 8 0 0 1 0 7 8 \" , \" d e p a r t m e n t \" : \" c r e w \" , \" g e n d e r \" : 0 , \" i d \" : 1 4 8 3 2 2 9 , \" j o b \" : \" c g s u p e r v i s o r \" , \" n a m e \" : \" m a t t h i a s m e n z \" } , { \" c r e d i t _ i d \" : \" 5 5 9 2 b 2 7 b 9 2 5 1 4 1 5 2 d 8 0 0 1 3 6 a \" , \" d e p a r t m e n t \" : \" c r e w \" , \" g e n d e r \" : 0 , \" i d \" : 1 4 8 3 2 3 0 , \" j o b \" : \" c g s u p e r v i s o r \" , \" n a m e \" : \" s e r g e i n e v s h u p o v \" } , { \" c r e d i t _ i d \" : \" 5 5 9 2 b 2 c 3 c 3 a 3 6 8 6 9 e 8 0 0 0 0 3 c \" , \" d e p a r t m e n t \" : \" c r e w \" , \" g e n d e r \" : 0 , \" i d \" : 1 4 8 3 2 3 1 , \" j o b \" : \" c g s u p e r v i s o r \" , \" n a m e \" : \" p h i l i p p e r e b o u r s \" } , { \" c r e d i t _ i d \" : \" 5 5 9 2 b 3 1 7 c 3 a 3 6 8 7 7 4 7 0 0 1 2 a f \" , \" d e p a r t m e n t \" : \" c r e w \" , \" g e n d e r \" : 0 , \" i d \" : 1 4 8 3 2 3 2 , \" j o b \" : \" c g s u p e r v i s o r \" , \" n a m e \" : \" m i c h a e l t a k a r a n g i \" } , { \" c r e d i t _ i d \" : \" 5 5 9 2 b 3 4 5 c 3 a 3 6 8 7 7 4 7 0 0 1 2 b b \" , \" d e p a r t m e n t \" : \" c r e w \" , \" g e n d e r \" : 0 , \" i d \" : 1 4 8 3 2 3 3 , \" j o b \" : \" c g s u p e r v i s o r \" , \" n a m e \" : \" d a v i d w e i t z b e r g \" } , { \" c r e d i t _ i d \" : \" 5 5 9 2 b 3 7 c c 3 a 3 6 8 7 7 5 1 0 0 1 1 3 b \" , \" d e p a r t m e n t \" : \" c r e w \" , \" g e n d e r \" : 0 , \" i d \" : 1 4 8 3 2 3 4 , \" j o b \" : \" c g s u p e r v i s o r \" , \" n a m e \" : \" b e n w h i t e \" } , { \" c r e d i t _ i d \" : \" 5 7 3 c 8 e 2 f 9 2 5 1 4 1 3 f 5 d 0 0 0 0 9 4 \" , \" d e p a r t m e n t \" : \" c r e w \" , \" g e n d e r \" : 1 , \" i d \" : 1 6 2 1 9 3 2 , \" j o b \" : \" s t u n t s \" , \" n a m e \" : \" m i n w i n d l e \" } ]'"
      ]
     },
     "execution_count": 42,
     "metadata": {},
     "output_type": "execute_result"
    }
   ],
   "source": [
    "#find the similarity of two tags\n",
    "new_df['tags'][0]"
   ]
  },
  {
   "cell_type": "code",
   "execution_count": 43,
   "id": "4301effc-be92-42d4-ac33-e8097d6c7c7a",
   "metadata": {},
   "outputs": [
    {
     "data": {
      "text/plain": [
       "'captain barbossa, long believ to be dead, ha come back to life and is head to the edg of the earth with will turner and elizabeth swann. but noth is quit as it seems. adventur fantasi action ocean drugabus exoticisland eastindiatradingcompani loveofone\\'slif traitor shipwreck strongwoman ship allianc calypso afterlif fighter pirat swashbuckl aftercreditssting johnnydepp orlandobloom keiraknightley [ { \" c r e d i t _ i d \" : \" 5 2 f e 4 2 3 2 c 3 a 3 6 8 4 7 f 8 0 0 b 5 7 9 \" , \" d e p a r t m e n t \" : \" c a m e r a \" , \" g e n d e r \" : 2 , \" i d \" : 1 2 0 , \" j o b \" : \" d i r e c t o r o f p h o t o g r a p h y \" , \" n a m e \" : \" d a r i u s z w o l s k i \" } , { \" c r e d i t _ i d \" : \" 5 2 f e 4 2 3 2 c 3 a 3 6 8 4 7 f 8 0 0 b 4 f d \" , \" d e p a r t m e n t \" : \" d i r e c t i n g \" , \" g e n d e r \" : 2 , \" i d \" : 1 7 0 4 , \" j o b \" : \" d i r e c t o r \" , \" n a m e \" : \" g o r e v e r b i n s k i \" } , { \" c r e d i t _ i d \" : \" 5 2 f e 4 2 3 2 c 3 a 3 6 8 4 7 f 8 0 0 b 5 4 f \" , \" d e p a r t m e n t \" : \" p r o d u c t i o n \" , \" g e n d e r \" : 2 , \" i d \" : 7 7 0 , \" j o b \" : \" p r o d u c e r \" , \" n a m e \" : \" j e r r y b r u c k h e i m e r \" } , { \" c r e d i t _ i d \" : \" 5 2 f e 4 2 3 2 c 3 a 3 6 8 4 7 f 8 0 0 b 5 0 3 \" , \" d e p a r t m e n t \" : \" w r i t i n g \" , \" g e n d e r \" : 2 , \" i d \" : 1 7 0 5 , \" j o b \" : \" s c r e e n p l a y \" , \" n a m e \" : \" t e d e l l i o t t \" } , { \" c r e d i t _ i d \" : \" 5 2 f e 4 2 3 2 c 3 a 3 6 8 4 7 f 8 0 0 b 5 0 9 \" , \" d e p a r t m e n t \" : \" w r i t i n g \" , \" g e n d e r \" : 2 , \" i d \" : 1 7 0 6 , \" j o b \" : \" s c r e e n p l a y \" , \" n a m e \" : \" t e r r y r o s s i o \" } , { \" c r e d i t _ i d \" : \" 5 2 f e 4 2 3 2 c 3 a 3 6 8 4 7 f 8 0 0 b 5 7 f \" , \" d e p a r t m e n t \" : \" e d i t i n g \" , \" g e n d e r \" : 0 , \" i d \" : 1 7 2 1 , \" j o b \" : \" e d i t o r \" , \" n a m e \" : \" s t e p h e n e . r i v k i n \" } , { \" c r e d i t _ i d \" : \" 5 2 f e 4 2 3 2 c 3 a 3 6 8 4 7 f 8 0 0 b 5 8 5 \" , \" d e p a r t m e n t \" : \" e d i t i n g \" , \" g e n d e r \" : 2 , \" i d \" : 1 7 2 2 , \" j o b \" : \" e d i t o r \" , \" n a m e \" : \" c r a i g w o o d \" } , { \" c r e d i t _ i d \" : \" 5 2 f e 4 2 3 2 c 3 a 3 6 8 4 7 f 8 0 0 b 5 7 3 \" , \" d e p a r t m e n t \" : \" s o u n d \" , \" g e n d e r \" : 2 , \" i d \" : 9 4 7 , \" j o b \" : \" o r i g i n a l m u s i c c o m p o s e r \" , \" n a m e \" : \" h a n s z i m m e r \" } , { \" c r e d i t _ i d \" : \" 5 2 f e 4 2 3 2 c 3 a 3 6 8 4 7 f 8 0 0 b 5 5 5 \" , \" d e p a r t m e n t \" : \" p r o d u c t i o n \" , \" g e n d e r \" : 2 , \" i d \" : 2 4 4 4 , \" j o b \" : \" e x e c u t i v e p r o d u c e r \" , \" n a m e \" : \" m i k e s t e n s o n \" } , { \" c r e d i t _ i d \" : \" 5 2 f e 4 2 3 2 c 3 a 3 6 8 4 7 f 8 0 0 b 5 6 1 \" , \" d e p a r t m e n t \" : \" p r o d u c t i o n \" , \" g e n d e r \" : 2 , \" i d \" : 2 4 4 5 , \" j o b \" : \" p r o d u c e r \" , \" n a m e \" : \" e r i c m c l e o d \" } , { \" c r e d i t _ i d \" : \" 5 2 f e 4 2 3 2 c 3 a 3 6 8 4 7 f 8 0 0 b 5 5 b \" , \" d e p a r t m e n t \" : \" p r o d u c t i o n \" , \" g e n d e r \" : 2 , \" i d \" : 2 4 4 6 , \" j o b \" : \" p r o d u c e r \" , \" n a m e \" : \" c h a d o m a n \" } , { \" c r e d i t _ i d \" : \" 5 2 f e 4 2 3 2 c 3 a 3 6 8 4 7 f 8 0 0 b 5 6 7 \" , \" d e p a r t m e n t \" : \" p r o d u c t i o n \" , \" g e n d e r \" : 0 , \" i d \" : 2 4 4 7 , \" j o b \" : \" p r o d u c e r \" , \" n a m e \" : \" p e t e r k o h n \" } , { \" c r e d i t _ i d \" : \" 5 2 f e 4 2 3 2 c 3 a 3 6 8 4 7 f 8 0 0 b 5 6 d \" , \" d e p a r t m e n t \" : \" p r o d u c t i o n \" , \" g e n d e r \" : 0 , \" i d \" : 2 4 4 8 , \" j o b \" : \" p r o d u c e r \" , \" n a m e \" : \" p a t s a n d s t o n \" } , { \" c r e d i t _ i d \" : \" 5 2 f e 4 2 3 2 c 3 a 3 6 8 4 7 f 8 0 0 b 5 8 b \" , \" d e p a r t m e n t \" : \" p r o d u c t i o n \" , \" g e n d e r \" : 1 , \" i d \" : 2 2 1 5 , \" j o b \" : \" c a s t i n g \" , \" n a m e \" : \" d e n i s e c h a m i a n \" } , { \" c r e d i t _ i d \" : \" 5 2 f e 4 2 3 2 c 3 a 3 6 8 4 7 f 8 0 0 b 5 9 7 \" , \" d e p a r t m e n t \" : \" a r t \" , \" g e n d e r \" : 2 , \" i d \" : 1 2 2 6 , \" j o b \" : \" p r o d u c t i o n d e s i g n \" , \" n a m e \" : \" r i c k h e i n r i c h s \" } , { \" c r e d i t _ i d \" : \" 5 2 f e 4 2 3 2 c 3 a 3 6 8 4 7 f 8 0 0 b 5 9 d \" , \" d e p a r t m e n t \" : \" a r t \" , \" g e n d e r \" : 2 , \" i d \" : 5 5 3 , \" j o b \" : \" a r t d i r e c t i o n \" , \" n a m e \" : \" j o h n d e x t e r \" } , { \" c r e d i t _ i d \" : \" 5 2 f e 4 2 3 2 c 3 a 3 6 8 4 7 f 8 0 0 b 5 9 1 \" , \" d e p a r t m e n t \" : \" p r o d u c t i o n \" , \" g e n d e r \" : 1 , \" i d \" : 3 3 1 1 , \" j o b \" : \" c a s t i n g \" , \" n a m e \" : \" p r i s c i l l a j o h n \" } , { \" c r e d i t _ i d \" : \" 5 2 f e 4 2 3 2 c 3 a 3 6 8 4 7 f 8 0 0 b 5 a 3 \" , \" d e p a r t m e n t \" : \" a r t \" , \" g e n d e r \" : 1 , \" i d \" : 4 0 3 2 , \" j o b \" : \" s e t d e c o r a t i o n \" , \" n a m e \" : \" c h e r y l c a r a s i k \" } , { \" c r e d i t _ i d \" : \" 5 2 f e 4 2 3 2 c 3 a 3 6 8 4 7 f 8 0 0 b 5 a 9 \" , \" d e p a r t m e n t \" : \" c o s t u m e & m a k e - u p \" , \" g e n d e r \" : 0 , \" i d \" : 4 0 3 3 , \" j o b \" : \" c o s t u m e d e s i g n \" , \" n a m e \" : \" l i z d a n n \" } , { \" c r e d i t _ i d \" : \" 5 2 f e 4 2 3 2 c 3 a 3 6 8 4 7 f 8 0 0 b 5 a f \" , \" d e p a r t m e n t \" : \" c o s t u m e & m a k e - u p \" , \" g e n d e r \" : 1 , \" i d \" : 4 0 3 4 , \" j o b \" : \" c o s t u m e d e s i g n \" , \" n a m e \" : \" p e n n y r o s e \" } , { \" c r e d i t _ i d \" : \" 5 6 4 2 7 c e 8 c 3 a 3 6 8 6 a 5 3 0 0 0 d 8 b \" , \" d e p a r t m e n t \" : \" s o u n d \" , \" g e n d e r \" : 2 , \" i d \" : 5 1 3 2 , \" j o b \" : \" m u s i c s u p e r v i s o r \" , \" n a m e \" : \" b o b b a d a m i \" } , { \" c r e d i t _ i d \" : \" 5 5 9 9 3 c 1 5 c 3 a 3 6 8 5 5 d b 0 0 2 f 3 3 \" , \" d e p a r t m e n t \" : \" a r t \" , \" g e n d e r \" : 2 , \" i d \" : 1 4 6 4 3 9 , \" j o b \" : \" c o n c e p t u a l d e s i g n \" , \" n a m e \" : \" j a m e s w a r d b y r k i t \" } , { \" c r e d i t _ i d \" : \" 5 2 f e 4 2 3 2 c 3 a 3 6 8 4 7 f 8 0 0 b 5 b 9 \" , \" d e p a r t m e n t \" : \" c o s t u m e & m a k e - u p \" , \" g e n d e r \" : 1 , \" i d \" : 4 0 6 2 0 4 , \" j o b \" : \" m a k e u p d e p a r t m e n t h e a d \" , \" n a m e \" : \" v e n e i l l \" } , { \" c r e d i t _ i d \" : \" 5 6 e 4 7 f 7 8 9 2 5 1 4 1 3 2 6 9 0 0 1 7 b d \" , \" d e p a r t m e n t \" : \" c r e w \" , \" g e n d e r \" : 2 , \" i d \" : 1 2 5 9 5 1 6 , \" j o b \" : \" s t u n t s \" , \" n a m e \" : \" j o h n d i x o n \" } , { \" c r e d i t _ i d \" : \" 5 7 4 0 b e 6 3 9 2 5 1 4 1 6 5 9 7 0 0 0 8 4 9 \" , \" d e p a r t m e n t \" : \" c r e w \" , \" g e n d e r \" : 0 , \" i d \" : 1 3 3 6 7 1 6 , \" j o b \" : \" c g i s u p e r v i s o r \" , \" n a m e \" : \" d o t t i e s t a r l i n g \" } , { \" c r e d i t _ i d \" : \" 5 6 4 2 7 c 6 3 9 2 5 1 4 1 2 f c 8 0 0 0 d c 1 \" , \" d e p a r t m e n t \" : \" d i r e c t i n g \" , \" g e n d e r \" : 1 , \" i d \" : 1 3 4 4 2 7 8 , \" j o b \" : \" s c r i p t s u p e r v i s o r \" , \" n a m e \" : \" p a m e l a a l c h \" } , { \" c r e d i t _ i d \" : \" 5 7 0 8 3 1 0 1 c 3 a 3 6 8 1 d 3 2 0 0 0 4 e 6 \" , \" d e p a r t m e n t \" : \" c r e w \" , \" g e n d e r \" : 0 , \" i d \" : 1 3 6 8 8 6 7 , \" j o b \" : \" s p e c i a l e f f e c t s c o o r d i n a t o r \" , \" n a m e \" : \" a l l e n h a l l \" } , { \" c r e d i t _ i d \" : \" 5 6 4 2 7 d 5 e c 3 a 3 6 8 6 a 6 2 0 0 0 d 4 a \" , \" d e p a r t m e n t \" : \" s o u n d \" , \" g e n d e r \" : 0 , \" i d \" : 1 3 6 8 8 8 4 , \" j o b \" : \" m u s i c e d i t o r \" , \" n a m e \" : \" m e l i s s a m u i k \" } , { \" c r e d i t _ i d \" : \" 5 6 4 2 7 c 7 b 9 2 5 1 4 1 2 f d 4 0 0 0 e 0 7 \" , \" d e p a r t m e n t \" : \" d i r e c t i n g \" , \" g e n d e r \" : 1 , \" i d \" : 1 3 9 5 2 9 0 , \" j o b \" : \" s c r i p t s u p e r v i s o r \" , \" n a m e \" : \" s h a r r o n r e y n o l d s \" } , { \" c r e d i t _ i d \" : \" 5 6 4 2 7 d 2 b c 3 a 3 6 8 6 a 5 3 0 0 0 d 9 b \" , \" d e p a r t m e n t \" : \" s o u n d \" , \" g e n d e r \" : 0 , \" i d \" : 1 3 9 9 3 2 7 , \" j o b \" : \" m u s i c e d i t o r \" , \" n a m e \" : \" b a r b a r a m c d e r m o t t \" } , { \" c r e d i t _ i d \" : \" 5 6 4 2 7 c b 4 c 3 a 3 6 8 6 a 5 3 0 0 0 d 8 7 \" , \" d e p a r t m e n t \" : \" d i r e c t i n g \" , \" g e n d e r \" : 1 , \" i d \" : 1 4 0 0 7 3 8 , \" j o b \" : \" s c r i p t s u p e r v i s o r \" , \" n a m e \" : \" k a r e n g o l d e n \" } , { \" c r e d i t _ i d \" : \" 5 6 4 2 7 d 1 6 9 2 5 1 4 1 2 f d 4 0 0 0 e 2 3 \" , \" d e p a r t m e n t \" : \" s o u n d \" , \" g e n d e r \" : 0 , \" i d \" : 1 5 3 4 1 9 7 , \" j o b \" : \" m u s i c e d i t o r \" , \" n a m e \" : \" k a t i e g r e a t h o u s e \" } ]'"
      ]
     },
     "execution_count": 43,
     "metadata": {},
     "output_type": "execute_result"
    }
   ],
   "source": [
    "new_df['tags'][1]"
   ]
  },
  {
   "cell_type": "code",
   "execution_count": 44,
   "id": "f5e8ca8e-4c68-4230-8603-e5dd68a65d5d",
   "metadata": {},
   "outputs": [],
   "source": [
    "#text=vectorization\n",
    "from sklearn.feature_extraction.text import CountVectorizer\n",
    "cv=CountVectorizer(max_features=5000,stop_words='english')"
   ]
  },
  {
   "cell_type": "code",
   "execution_count": 45,
   "id": "fc6a0011-09f7-4ff3-8b15-b66fc527fd3e",
   "metadata": {},
   "outputs": [],
   "source": [
    "vectors=cv.fit_transform(new_df['tags']).toarray()"
   ]
  },
  {
   "cell_type": "code",
   "execution_count": 46,
   "id": "a2d47512-4527-4326-af69-054f0982ba81",
   "metadata": {},
   "outputs": [
    {
     "data": {
      "text/plain": [
       "array([[0, 0, 0, ..., 0, 0, 0],\n",
       "       [0, 0, 0, ..., 0, 0, 0],\n",
       "       [0, 0, 0, ..., 0, 0, 0],\n",
       "       ...,\n",
       "       [0, 0, 0, ..., 0, 0, 0],\n",
       "       [0, 0, 0, ..., 0, 0, 0],\n",
       "       [0, 0, 0, ..., 0, 0, 0]])"
      ]
     },
     "execution_count": 46,
     "metadata": {},
     "output_type": "execute_result"
    }
   ],
   "source": [
    "vectors\n"
   ]
  },
  {
   "cell_type": "code",
   "execution_count": 47,
   "id": "42cafc40-0a65-462b-9dcf-f307a72447a1",
   "metadata": {},
   "outputs": [
    {
     "data": {
      "text/plain": [
       "array(['000', '007', '10', ..., 'zone', 'zoo', 'zooeydeschanel'],\n",
       "      dtype=object)"
      ]
     },
     "execution_count": 47,
     "metadata": {},
     "output_type": "execute_result"
    }
   ],
   "source": [
    "cv.get_feature_names_out()"
   ]
  },
  {
   "cell_type": "code",
   "execution_count": 48,
   "id": "73c205ae-6194-4b97-832e-55d350d116c6",
   "metadata": {},
   "outputs": [],
   "source": [
    "from sklearn.metrics.pairwise import cosine_similarity\n"
   ]
  },
  {
   "cell_type": "code",
   "execution_count": 49,
   "id": "a4beaa3b-c1f6-4340-b7b2-8ed662d626e8",
   "metadata": {},
   "outputs": [],
   "source": [
    "similarity=cosine_similarity(vectors)"
   ]
  },
  {
   "cell_type": "code",
   "execution_count": 50,
   "id": "018c4b94-70c7-4a4d-b3f9-98cdc9e63671",
   "metadata": {},
   "outputs": [
    {
     "data": {
      "text/plain": [
       "array([0.08471737, 1.        , 0.06253054, ..., 0.02414023, 0.        ,\n",
       "       0.02654659])"
      ]
     },
     "execution_count": 50,
     "metadata": {},
     "output_type": "execute_result"
    }
   ],
   "source": [
    "similarity[1]"
   ]
  },
  {
   "cell_type": "code",
   "execution_count": 51,
   "id": "1a993231-80f9-40d4-894b-29a3bff7bb63",
   "metadata": {},
   "outputs": [],
   "source": [
    "# main_fun\n",
    "def recommend(movie):\n",
    "    movie_index=new_df[new_df['title']==movie].index[0]\n",
    "    distance=similarity[movie_index]\n",
    "    movies_list=sorted(list(enumerate(distance)),reverse=True,key=lambda x:x[1])[1:6]\n",
    "    for i in movies_list:\n",
    "        print(new_df.iloc[i[0]].title)"
   ]
  },
  {
   "cell_type": "code",
   "execution_count": 52,
   "id": "79fcbbee-b319-46d6-a598-047d4599d0ce",
   "metadata": {},
   "outputs": [
    {
     "name": "stdout",
     "output_type": "stream",
     "text": [
      "Aliens vs Predator: Requiem\n",
      "Aliens\n",
      "Falcon Rising\n",
      "Independence Day\n",
      "Titan A.E.\n"
     ]
    }
   ],
   "source": [
    "recommend('Avatar')"
   ]
  },
  {
   "cell_type": "code",
   "execution_count": 53,
   "id": "d018064e-a1ef-43e4-bf98-abb17977621a",
   "metadata": {},
   "outputs": [],
   "source": [
    "import pickle\n"
   ]
  },
  {
   "cell_type": "code",
   "execution_count": 54,
   "id": "8c497b9f-62cf-4826-88aa-787bcbe360d7",
   "metadata": {},
   "outputs": [],
   "source": [
    "pickle.dump(new_df,open('movies.pkl','wb'))"
   ]
  },
  {
   "cell_type": "code",
   "execution_count": 55,
   "id": "3b3279fd-59ba-40bf-ab1f-d882bc1074f2",
   "metadata": {},
   "outputs": [],
   "source": [
    "pickle.dump(similarity,open('similarity.pkl','wb'))"
   ]
  },
  {
   "cell_type": "code",
   "execution_count": null,
   "id": "d0a531bb-0b7b-4453-800c-2e2aa6cb434e",
   "metadata": {},
   "outputs": [],
   "source": []
  }
 ],
 "metadata": {
  "kernelspec": {
   "display_name": "Python 3 (ipykernel)",
   "language": "python",
   "name": "python3"
  },
  "language_info": {
   "codemirror_mode": {
    "name": "ipython",
    "version": 3
   },
   "file_extension": ".py",
   "mimetype": "text/x-python",
   "name": "python",
   "nbconvert_exporter": "python",
   "pygments_lexer": "ipython3",
   "version": "3.12.4"
  }
 },
 "nbformat": 4,
 "nbformat_minor": 5
}
